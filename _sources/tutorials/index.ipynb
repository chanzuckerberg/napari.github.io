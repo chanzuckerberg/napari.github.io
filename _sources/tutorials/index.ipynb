{
 "cells": [
  {
   "cell_type": "markdown",
   "id": "60aae71a",
   "metadata": {},
   "source": [
    "# napari tutorials"
   ]
  },
  {
   "cell_type": "markdown",
   "id": "0b29697b",
   "metadata": {},
   "source": [
    "Welcome to the napari tutorials! Our main development occurs on the\n",
    "[napari/napari](https://github.com/napari/napari) repository. Here we've\n",
    "provided a few tutorials to explore the main usage modes and methods of napari.\n",
    "Before we dive in, let's talk a bit about what napari actually is and why we're\n",
    "developing it."
   ]
  },
  {
   "cell_type": "markdown",
   "id": "203a62a3",
   "metadata": {},
   "source": [
    "## what is napari?\n",
    "\n",
    "**napari** is a fast, interactive, multi-dimensional image viewer for Python.\n",
    "It's designed for browsing, annotating, and analyzing large multi-dimensional\n",
    "images. It's built on top of `Qt` (for the GUI), `vispy` (for performant\n",
    "GPU-based rendering), and the scientific Python stack (e.g. `numpy`, `scipy`).\n",
    "It includes critical viewer features out-of-the-box, such as support for large\n",
    "multi-dimensional data, and layering and annotation. By integrating closely with\n",
    "the Python ecosystem, **napari** can be easily coupled to leading machine\n",
    "learning and image analysis tools (e.g. `scikit-image`, `scikit-learn`,\n",
    "`TensorFlow`, `PyTorch`), enabling more user-friendly automated analysis."
   ]
  },
  {
   "cell_type": "code",
   "execution_count": null,
   "id": "2d5a2759",
   "metadata": {},
   "outputs": [],
   "source": [
    "import napari\n",
    "from skimage.data import cells3d\n",
    "\n",
    "cells = cells3d()[30, 1]  # get some data\n",
    "viewer = napari.view_image(cells, colormap='magma')"
   ]
  },
  {
   "cell_type": "code",
   "execution_count": null,
   "id": "5065ed09",
   "metadata": {
    "tags": [
     "hide-input"
    ]
   },
   "outputs": [],
   "source": [
    "from napari.utils import nbscreenshot\n",
    "\n",
    "nbscreenshot(viewer)"
   ]
  },
  {
   "cell_type": "markdown",
   "id": "71f7c337",
   "metadata": {},
   "source": [
    "We're developing **napari** in the open! But the project is in an **alpha**\n",
    "stage, and there will still likely be **breaking changes** with each release.\n",
    "You can follow progress on this repository, test out new versions as we release\n",
    "them, and contribute ideas and code.\n",
    "\n",
    "To get a sense of our current plans checkout and contribute to the discussion on\n",
    "some of our [long-term feature\n",
    "issues](https://github.com/napari/napari/issues?q=is%3Aissue+is%3Aopen+label%3A%22long-term+feature%22)\n",
    "on Github.\n",
    "\n",
    "To checkout some cool example uses of **napari** with scientific data see our\n",
    "[gallery](./gallery)."
   ]
  },
  {
   "cell_type": "markdown",
   "id": "f7422bae",
   "metadata": {},
   "source": [
    "## getting started\n",
    "\n",
    "These tutorials target people who want to use napari as a user. If you are also\n",
    "interested in contributing to napari then please check out [contributing\n",
    "guidelines](https://github.com/napari/napari/blob/master/docs/developers/contributing.md).\n",
    "\n",
    "If you've already got napari installed, then begin with our [getting\n",
    "started](./fundamentals/getting_started) tutorial. For help installing napari\n",
    "checkout our [installing napari](./fundamentals/installation) tutorial."
   ]
  },
  {
   "cell_type": "markdown",
   "id": "20151315",
   "metadata": {},
   "source": [
    "## help\n",
    "\n",
    "We're a community partner on the [imagesc\n",
    "forum](https://forum.image.sc/tags/napari) and all help and support requests\n",
    "should be posted on the forum with the tag `napari`. We look forward to\n",
    "interacting with you there."
   ]
  },
  {
   "cell_type": "markdown",
   "id": "2b46014b",
   "metadata": {},
   "source": [
    "## improving the tutorials\n",
    "\n",
    "Our tutorials are hosted on Github at\n",
    "[napari/tutorials](https://github.com/napari/tutorials). If as you're going\n",
    "through the tutorials you spot any errors or can think of ways to improve them\n",
    "please raise an issue on the repository or make a PR, we'd love to have the\n",
    "community help make them better for everyone.\n",
    "\n",
    "[napari tutorials home page](http://www.napari.org/tutorials)"
   ]
  },
  {
   "cell_type": "code",
   "execution_count": null,
   "id": "ba03168a",
   "metadata": {
    "tags": [
     "remove-cell"
    ]
   },
   "outputs": [],
   "source": [
    "viewer.close()"
   ]
  },
  {
   "cell_type": "markdown",
   "id": "1e6e9c4c",
   "metadata": {},
   "source": [
    "```{toctree}\n",
    ":hidden:\n",
    ":titlesonly:\n",
    "\n",
    "\n",
    "fundamentals/index\n",
    "applications/index\n",
    "```"
   ]
  }
 ],
 "metadata": {
  "jupytext": {
   "text_representation": {
    "extension": ".md",
    "format_name": "myst",
    "format_version": 0.13,
    "jupytext_version": "1.10.3"
   }
  },
  "kernelspec": {
   "display_name": "Python 3",
   "language": "python",
   "name": "python3"
  },
  "source_map": [
   12,
   16,
   24,
   38,
   46,
   52,
   67,
   79,
   88,
   100,
   104
  ]
 },
 "nbformat": 4,
 "nbformat_minor": 5
}