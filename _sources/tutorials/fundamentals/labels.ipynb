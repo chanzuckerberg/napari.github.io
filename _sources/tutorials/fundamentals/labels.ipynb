{
 "cells": [
  {
   "cell_type": "markdown",
   "id": "175049ea",
   "metadata": {},
   "source": [
    "# labels layer tutorial"
   ]
  },
  {
   "cell_type": "markdown",
   "id": "9dacbdc5",
   "metadata": {},
   "source": [
    "Welcome to the tutorial on the **napari** `Labels` layer!\n",
    "\n",
    "This tutorial assumes you have already installed **napari**, know how to launch\n",
    "the viewer, and are familiar with its layout. For help with installation see our\n",
    "[installation](./installation) tutorial. For help getting started with the\n",
    "viewer see our [getting started](./getting_started) tutorial. For help\n",
    "understanding the organisation of the viewer, including things like the layers\n",
    "list, the layer properties widgets, the layer control panels, and the dimension\n",
    "sliders see our [napari viewer](./viewer) tutorial.\n",
    "\n",
    "This tutorial will teach you about the **napari** `Labels` layer, including\n",
    "using the layer to display the results of image segmentation analyses, and how\n",
    "to manually segment images using the paintbrush and fill buckets. At the end of\n",
    "the tutorial you should understand how to add a labels image and edit it from\n",
    "the GUI and from the console.\n",
    "\n",
    "The labels layer allows you to take an array of integers and display each\n",
    "integer as a different random color, with the background color 0 rendered as\n",
    "transparent.\n",
    "\n",
    "The `Labels` layer is therefore especially useful for segmentation tasks where\n",
    "each pixel is assigned to a different class, as occurs in semantic segmentation,\n",
    "or where pixels corresponding to different objects all get assigned the same\n",
    "label, as occurs in instance segmentation."
   ]
  },
  {
   "cell_type": "markdown",
   "id": "357471c7",
   "metadata": {},
   "source": [
    "## a simple example\n",
    "\n",
    "You can create a new viewer and add an labels image in one go using the\n",
    "`napari.view_labels` method, or if you already have an existing viewer, you can\n",
    "add a `Labels` image to it using `viewer.add_labels`. The api of both methods is\n",
    "the same. In these examples we'll mainly use `add_labels` to overlay a `Labels`\n",
    "image onto on image.\n",
    "\n",
    "In this example of instance segmentation, we will find and segment each of the\n",
    "coins in an image, assigning each one an integer label, and then overlay the\n",
    "results on the original image as follows:"
   ]
  },
  {
   "cell_type": "code",
   "execution_count": null,
   "id": "64f4ae0b",
   "metadata": {},
   "outputs": [],
   "source": [
    "import napari\n",
    "from skimage import data\n",
    "from skimage.filters import threshold_otsu\n",
    "from skimage.segmentation import clear_border\n",
    "from skimage.measure import label\n",
    "from skimage.morphology import closing, square, remove_small_objects\n",
    "\n",
    "coins = data.coins()[50:-50, 50:-50]\n",
    "# apply threshold\n",
    "thresh = threshold_otsu(coins)\n",
    "bw = closing(coins > thresh, square(4))\n",
    "# remove artifacts connected to image border\n",
    "cleared = remove_small_objects(clear_border(bw), 20)\n",
    "# label image regions\n",
    "label_image = label(cleared)\n",
    "\n",
    "# create the viewer and add the coins image\n",
    "viewer = napari.view_image(coins, name='coins')\n",
    "# add the labels\n",
    "labels_layer = viewer.add_labels(label_image, name='segmentation')"
   ]
  },
  {
   "cell_type": "code",
   "execution_count": null,
   "id": "3c4bee31",
   "metadata": {
    "tags": [
     "hide-input"
    ]
   },
   "outputs": [],
   "source": [
    "from napari.utils import nbscreenshot\n",
    "\n",
    "nbscreenshot(viewer)"
   ]
  },
  {
   "cell_type": "code",
   "execution_count": null,
   "id": "bbb81ce2",
   "metadata": {
    "tags": [
     "remove-cell"
    ]
   },
   "outputs": [],
   "source": [
    "viewer.close()"
   ]
  },
  {
   "cell_type": "markdown",
   "id": "4973dfa2",
   "metadata": {},
   "source": [
    "## arguments of view_labels and add_labels\n",
    "\n",
    "{meth}`~napari.view_layers.view_labels` and {meth}`~napari.Viewer.add_labels`\n",
    "accept the same layer-creation parameters."
   ]
  },
  {
   "cell_type": "code",
   "execution_count": null,
   "id": "ebe53a68",
   "metadata": {
    "tags": [
     "hide-cell"
    ]
   },
   "outputs": [],
   "source": [
    "help(napari.view_labels)"
   ]
  },
  {
   "cell_type": "markdown",
   "id": "a47eac48",
   "metadata": {},
   "source": [
    "## labels data\n",
    "\n",
    "The labels layer is a subclass of the `Image` layer and as such can support the\n",
    "same numpy-like arrays, including [dask\n",
    "arrays](https://docs.dask.org/en/stable/array.html),\n",
    "[xarrays](http://xarray.pydata.org/en/stable/generated/xarray.DataArray.html),\n",
    "and [zarr arrays](https://zarr.readthedocs.io/en/stable/api/core.html). A\n",
    "`Labels` layer though must be integer valued, and the background label must be\n",
    "0.\n",
    "\n",
    "Because the labels layer subclasses the image layer it inherits the great\n",
    "properties of the image layer, like supporting lazy loading and image pyramids\n",
    "for big data layers. For more information about both these concepts see the\n",
    "details in the [image layer](./image) tutorial."
   ]
  },
  {
   "cell_type": "markdown",
   "id": "289cb546",
   "metadata": {},
   "source": [
    "## creating a new labels layer\n",
    "\n",
    "As you can edit a `Labels` layer using the paintbrush and fill bucket, it is\n",
    "possible to create a brand-new empty labels layers by clicking the new labels\n",
    "layer button above the layers list. The shape of the new labels layer will match\n",
    "the size of any currently existing image layers, allowing you to paint on top of\n",
    "them."
   ]
  },
  {
   "cell_type": "markdown",
   "id": "1d7e15ab",
   "metadata": {},
   "source": [
    "## non-editable mode\n",
    "\n",
    "If you want to disable editing of the labels layer you can set the `editable`\n",
    "property of the layer to `False`.\n",
    "\n",
    "As note in the section on 3D rendering, when using 3D rendering the labels layer\n",
    "is not editable. Similarly, for now, a labels layer where the data is\n",
    "represented as an image pyramid is not editable."
   ]
  },
  {
   "cell_type": "markdown",
   "id": "68158ae9",
   "metadata": {},
   "source": [
    "## 3D rendering of labels\n",
    "\n",
    "All our layers can be rendered in both 2D and 3D mode, and one of our viewer\n",
    "buttons can toggle between each mode. The number of dimensions sliders will be 2\n",
    "or 3 less than the total number of dimensions of the layer, allowing you to\n",
    "browse volumetric timeseries data and other high dimensional data."
   ]
  },
  {
   "cell_type": "code",
   "execution_count": null,
   "id": "3d253ed9",
   "metadata": {
    "tags": [
     "remove-output"
    ]
   },
   "outputs": [],
   "source": [
    "from scipy import ndimage as ndi\n",
    "\n",
    "blobs = data.binary_blobs(length=128, volume_fraction=0.1, n_dim=3)\n",
    "viewer = napari.view_image(blobs.astype(float), name='blobs')\n",
    "labeled = ndi.label(blobs)[0]\n",
    "labels_layer = viewer.add_labels(labeled, name='blob ID')\n",
    "viewer.dims.ndisplay = 3"
   ]
  },
  {
   "cell_type": "code",
   "execution_count": null,
   "id": "94255f6a",
   "metadata": {
    "tags": [
     "hide-input"
    ]
   },
   "outputs": [],
   "source": [
    "# programmatically adjust the camera angle\n",
    "viewer.camera.zoom = 2\n",
    "viewer.camera.angles = (3, 38, 53)\n",
    "nbscreenshot(viewer)"
   ]
  },
  {
   "cell_type": "markdown",
   "id": "034e2eea",
   "metadata": {},
   "source": [
    "Note though that when entering 3D rendering mode the colorpicker, paintbrush,\n",
    "and fill bucket options which allow for layer editing are all disabled. Those\n",
    "options are only supported when viewing a layer using 2D rendering."
   ]
  },
  {
   "cell_type": "markdown",
   "id": "8ba321f5",
   "metadata": {},
   "source": [
    "## pan and zoom mode\n",
    "\n",
    "The default mode of the labels layer is to support panning and zooming, as in\n",
    "the image layer. This mode is represented by the magnifying glass in the layers\n",
    "control panel, and while it is selected editing the layer is not possible.\n",
    "Continue reading to learn how to use some of the editing modes. You can always\n",
    "return to pan and zoom mode by pressing the `Z` key when the labels layer is\n",
    "selected."
   ]
  },
  {
   "cell_type": "markdown",
   "id": "a31561a9",
   "metadata": {},
   "source": [
    "## shuffling label colors\n",
    "\n",
    "The color that each integer gets assigned is random, aside from 0 which always\n",
    "gets assigned to be transparent. The colormap we use is designed such that\n",
    "nearby integers get assigned distinct colors. The exact colors that get assigned\n",
    "as determined by a [random\n",
    "seed](https://docs.scipy.org/doc/numpy-1.15.1/reference/generated/numpy.random.seed.html)\n",
    "and changing that seed will shuffle the colors that each label gets assigned.\n",
    "Changing the seed can be done by clicking on the `shuffle colors` button in the\n",
    "layers control panel. Shuffling colors can be useful as some colors may be hard\n",
    "to distinguish from the background or nearby objects."
   ]
  },
  {
   "cell_type": "markdown",
   "id": "ff171618",
   "metadata": {},
   "source": [
    "## selecting a label\n",
    "\n",
    "A particular label can be selected either using the label combobox inside the\n",
    "layers control panel and typing in the value of the desired label or using the\n",
    "plus / minus buttons, or by selecting the color picker tool and then clicking on\n",
    "a pixel with the desired label in the image. When a label is selected you will\n",
    "see its integer inside the label combobox and the color or the label shown in\n",
    "the thumbnail next to the label combobox. If the 0 label is selected, then a\n",
    "checkerboard pattern is shown in the thumbnail to represent the transparent\n",
    "color.\n",
    "\n",
    "You can quickly select the color picker by pressing the `L` key when the labels\n",
    "layer is selected.\n",
    "\n",
    "You can set the selected label to be 0, the background label, by pressing `E`.\n",
    "\n",
    "You can set the selected label to be one larger than the current largest label\n",
    "by pressing `M`. This selection will guarantee that you are then using a label\n",
    "that hasn't been used before.\n",
    "\n",
    "You can also increment or decrement the currently selected label by pressing the\n",
    "`I` or `D` key, respectively."
   ]
  },
  {
   "cell_type": "markdown",
   "id": "d31cc072",
   "metadata": {},
   "source": [
    "## painting in the labels layer\n",
    "\n",
    "One of the major use cases for the labels layer is to manually edit or create\n",
    "image segmentations. One of the tools that can be used for manual editing is the\n",
    "`paintbrush`, that can be made active from by clicking the paintbrush icon in\n",
    "the layers control panel. Once the paintbrush is enabled, the pan and zoom\n",
    "functionality of the  viewer canvas gets disabled, and you can paint onto the\n",
    "canvas. You can temporarily re-enable pan and zoom by pressing and holding the\n",
    "spacebar. This feature can be useful if you want to move around the labels layer\n",
    "as you paint.\n",
    "\n",
    "When you start painting the label that you are painting with, and the color that\n",
    "you will see are determined by the selected label. Note there is no explicit\n",
    "eraser tool, instead you just need to make the selected label 0 and then you are\n",
    "effectively painting with the background color. Remember you can use the color\n",
    "picker tool at any point to change the selected label.\n",
    "\n",
    "You can adjust the size of your paintbrush using the brush size slider, making\n",
    "it as small as a single pixel for incredibly detailed painting.\n",
    "\n",
    "If you have a multidimensional labels layer then your paintbrush will only edit\n",
    "data in the visible slice by default; however, if you enable the `n_dimensional`\n",
    "property and paintbrush then your paintbrush will extend out into neighbouring\n",
    "slices according to its size.\n",
    "\n",
    "You can quickly select the paintbrush by pressing the `P` key when the labels\n",
    "layer is selected."
   ]
  },
  {
   "cell_type": "markdown",
   "id": "a7dbb485",
   "metadata": {},
   "source": [
    "## using the fill bucket\n",
    "\n",
    "Sometimes you might want to replace an entire label with a different label. This\n",
    "could be because you want to make two touching regions have the same label, or\n",
    "you want to just replace one label with a different one, or maybe you have\n",
    "painted around the edge of a region and you want to quickly fill in its inside.\n",
    "To do this you can select the `fill bucket` by clicking on the droplet icon in\n",
    "the layer controls panel and then click on a target region of interest in the\n",
    "layer. The fill bucket will fill using the currently selected label.\n",
    "\n",
    "By default, the fill bucket will only change contiguous or connected pixels of\n",
    "the same label as the pixel that is clicked on. If you want to change all the\n",
    "pixels of that label regardless of where they are in the slice, then you can set\n",
    "the `contiguous` property or checkbox to `False`.\n",
    "\n",
    "If you have a multidimensional labels layer then your fill bucket will only edit\n",
    "data in the visible slice by default; however, if you enable the `n_dimensional`\n",
    "property and paintbrush then your fill bucket will extend out into neighbouring\n",
    "slices, either to all pixels with that label in the layer, or only connected\n",
    "pixels depending on if the contiguous property is disabled or not.\n",
    "\n",
    "You can quickly select the fill bucket by pressing the `F` key when the labels\n",
    "layer is selected."
   ]
  },
  {
   "cell_type": "markdown",
   "id": "3d9d4a17",
   "metadata": {},
   "source": [
    "## creating, deleting, merging, and splitting connected components\n",
    "\n",
    "Using the `color picker`, `paintbrush`, and `fill bucket` tools one can create\n",
    "and edit object segmentation maps. Below we show how to use these tools to by\n",
    "perform common editing tasks on connected components (keep the `contiguous` box\n",
    "checked)."
   ]
  },
  {
   "cell_type": "markdown",
   "id": "623e1715",
   "metadata": {},
   "source": [
    "**drawing a connected component**:\n",
    "\n",
    "![image: draw component](../assets/tutorials/draw_component.gif)"
   ]
  },
  {
   "cell_type": "markdown",
   "id": "bf2b7496",
   "metadata": {},
   "source": [
    "Press `M` to select a new label color. Select the `paintbrush` tool and draw a\n",
    "closed contour around the object. Select the `fill bucket` tool and click inside\n",
    "the contour to assign the label to all pixels of the object."
   ]
  },
  {
   "cell_type": "markdown",
   "id": "4d318fe0",
   "metadata": {},
   "source": [
    "**selecting a connected component**:\n",
    "\n",
    "![image: delete label](../assets/tutorials/delete_label.gif)"
   ]
  },
  {
   "cell_type": "markdown",
   "id": "1de73b52",
   "metadata": {},
   "source": [
    "select the background label with the `color picker` (alternative: press keyboard\n",
    "shortcut `E`), then use the `fill bucket` to set all pixels of the connected\n",
    "component to background."
   ]
  },
  {
   "cell_type": "markdown",
   "id": "2355b26d",
   "metadata": {},
   "source": [
    "**merging connected components**:\n",
    "\n",
    "![image: merge labels](../assets/tutorials/merge_labels.gif)"
   ]
  },
  {
   "cell_type": "markdown",
   "id": "9067e4f4",
   "metadata": {},
   "source": [
    "select the label of one of the components with the `color picker` tool and then\n",
    "filling the components to be merged with the fill bucket."
   ]
  },
  {
   "cell_type": "markdown",
   "id": "a9b1e3ae",
   "metadata": {},
   "source": [
    "**splitting a connected component**:\n",
    "\n",
    "![image: split label](../assets/tutorials/split_label.gif)"
   ]
  },
  {
   "cell_type": "markdown",
   "id": "043e3eb0",
   "metadata": {},
   "source": [
    "splitting a connected component will introduce an additional object, therefore\n",
    "press `M` to select a label number that is not already in use. Use the\n",
    "paintbrush tool to draw a dividing line, then assign the new label to one of the\n",
    "parts with the `fill bucket`."
   ]
  },
  {
   "cell_type": "markdown",
   "id": "dd0cd825",
   "metadata": {},
   "source": [
    "## undo / redo functionality\n",
    "\n",
    "When painting or using the fill bucket it can be easy to make a mistake that you\n",
    "might want to undo or then redo. For the labels layer we support an undo with\n",
    "`ctrl-Z` and redo with `shift-ctrl-Z`. We plan to support this sort of\n",
    "functionality more generally, but for now these actions will undo the most\n",
    "recent painting or filling event, up to 100 events in the past.\n",
    "\n",
    "If you have multidimensional data, then adjusting the currently viewed slice\n",
    "will cause the undo history to be reset."
   ]
  },
  {
   "cell_type": "markdown",
   "id": "b9487e65",
   "metadata": {},
   "source": [
    "## layer visibility\n",
    "\n",
    "All our layers support a visibility toggle that allows you to set the `visible`\n",
    "property of each layer. This property is located inside the layer widget in the\n",
    "layers list and is represented by an eye icon."
   ]
  },
  {
   "cell_type": "markdown",
   "id": "ea76b27f",
   "metadata": {},
   "source": [
    "## layer opacity\n",
    "\n",
    "All our layers support an opacity slider and `opacity` property that allow you\n",
    "to adjust the layer opacity between 0, fully invisible, and 1, fully visible."
   ]
  },
  {
   "cell_type": "markdown",
   "id": "20989e9d",
   "metadata": {},
   "source": [
    "## blending layers\n",
    "\n",
    "All our layers support three blending modes `translucent`, `additive`, and\n",
    "`opaque` that determine how the visuals for this layer get mixed with the\n",
    "visuals from the other layers.\n",
    "\n",
    "An `opaque` layer renders all the other layers below it invisible and will fade\n",
    "to black as you decrease its opacity.\n",
    "\n",
    "The `translucent` setting will cause the layer to blend with the layers below it\n",
    "if you decrease its opacity but will fully block those layers if its opacity is\n",
    "1. This is a reasonable default, useful for many applications.\n",
    "\n",
    "The final blending mode `additive` will cause the layer to blend with the layers\n",
    "below even when it has full opacity. This mode is especially useful for\n",
    "visualizing multiple layers at the same time."
   ]
  },
  {
   "cell_type": "markdown",
   "id": "681a2f54",
   "metadata": {},
   "source": [
    "## naming layers\n",
    "\n",
    "All our layers support a `name` property that can be set inside a text box\n",
    "inside the layer widget in the layers list. The name of each layer is forced\n",
    "into being unique so that you can use the name to index into `viewer.layers` to\n",
    "retrieve the layer object."
   ]
  },
  {
   "cell_type": "markdown",
   "id": "7f474ceb",
   "metadata": {},
   "source": [
    "## scaling layers\n",
    "\n",
    "All our layers support a `scale` property and keyword argument that will rescale\n",
    "the layer multiplicatively according to the scale values (one for each\n",
    "dimension). This property can be particularly useful for viewing anisotropic\n",
    "volumes where the size of the voxel in the z dimension might be different then\n",
    "the size in the x and y dimensions."
   ]
  },
  {
   "cell_type": "markdown",
   "id": "08b87517",
   "metadata": {},
   "source": [
    "## translating layers\n",
    "\n",
    "All our layers support a `translate` property and keyword argument that you can\n",
    "use to offset a layer relative to the other layers, which could be useful if you\n",
    "are trying to overlay two layers for image registration purposes."
   ]
  },
  {
   "cell_type": "markdown",
   "id": "17d4b77e",
   "metadata": {},
   "source": [
    "## layer metadata\n",
    "\n",
    "All our layers also support a `metadata` property and keyword argument that you\n",
    "can use to store an arbitrary metadata dictionary on the layer."
   ]
  },
  {
   "cell_type": "markdown",
   "id": "cdf82603",
   "metadata": {},
   "source": [
    "## next steps\n",
    "\n",
    "Hopefully, this tutorial has given you a detailed understanding of the `Labels`\n",
    "layer, including how to create one and control its properties. To learn more\n",
    "about some of the other layer types that **napari** supports checkout some more\n",
    "of our tutorials listed below. The [points layer](./points) tutorial is a great\n",
    "one to try next as points are one of our simplest shape-like layers."
   ]
  }
 ],
 "metadata": {
  "jupytext": {
   "text_representation": {
    "extension": ".md",
    "format_name": "myst",
    "format_version": 0.13,
    "jupytext_version": "1.10.3"
   }
  },
  "kernelspec": {
   "display_name": "Python 3",
   "language": "python",
   "name": "python3"
  },
  "source_map": [
   12,
   16,
   43,
   57,
   80,
   88,
   92,
   99,
   103,
   120,
   130,
   141,
   151,
   162,
   169,
   175,
   186,
   200,
   225,
   255,
   281,
   290,
   296,
   302,
   308,
   314,
   320,
   325,
   331,
   338,
   351,
   359,
   366,
   385,
   394,
   404,
   412,
   419
  ]
 },
 "nbformat": 4,
 "nbformat_minor": 5
}