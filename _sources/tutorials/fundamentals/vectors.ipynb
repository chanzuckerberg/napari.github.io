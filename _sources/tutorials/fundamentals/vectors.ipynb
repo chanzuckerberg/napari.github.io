{
 "cells": [
  {
   "cell_type": "markdown",
   "id": "c035aa98",
   "metadata": {},
   "source": [
    "# vectors layer tutorial"
   ]
  },
  {
   "cell_type": "markdown",
   "id": "4db9276a",
   "metadata": {},
   "source": [
    "Welcome to the tutorial on the **napari** `Vectors` layer!\n",
    "\n",
    "This tutorial assumes you have already installed **napari**, know how to launch\n",
    "the viewer, and are familiar with its layout. For help with installation see our\n",
    "[installation](./installation) tutorial. For help getting started with the\n",
    "viewer see our [getting started](./getting_started) tutorial. For help\n",
    "understanding the organisation of the viewer, including things like the layers\n",
    "list, the layer properties widgets, the layer control panels, and the dimension\n",
    "sliders see our [napari viewer](./viewer) tutorial.\n",
    "\n",
    "This tutorial will teach you about the **napari** `Vectors` layer, including how\n",
    "to display many vectors simultaneously and adjust their properties. At the end\n",
    "of the tutorial you should understand how to add a vectors layer and edit it\n",
    "from the GUI and from the console.\n",
    "\n",
    "The vectors layer allows you to display many vectors with defined starting\n",
    "points and directions. It is particularly useful for people who want to\n",
    "visualize large vector fields, for example if you are doing polarization\n",
    "microscopy. You can adjust the color, width, and length of all the vectors both\n",
    "programmatically and from the GUI."
   ]
  },
  {
   "cell_type": "markdown",
   "id": "170af0ea",
   "metadata": {},
   "source": [
    "## a simple example\n",
    "\n",
    "You can create a new viewer and add vectors in one go using the\n",
    "`napari.view_vectors` method, or if you already have an existing viewer, you can\n",
    "add shapes to it using `viewer.add_vectors`. The api of both methods is the\n",
    "same. In these examples we'll mainly use `add_vectors` to overlay shapes onto on\n",
    "an existing image.\n",
    "\n",
    "In this example of we will overlay some shapes on the image of a photographer:"
   ]
  },
  {
   "cell_type": "code",
   "execution_count": null,
   "id": "357beace",
   "metadata": {},
   "outputs": [],
   "source": [
    "import napari\n",
    "import numpy as np\n",
    "from skimage import data\n",
    "\n",
    "# create vector data\n",
    "n = 250\n",
    "vectors = np.zeros((n, 2, 2), dtype=np.float32)\n",
    "phi_space = np.linspace(0, 4 * np.pi, n)\n",
    "radius_space = np.linspace(0, 100, n)\n",
    "# assign x-y projection\n",
    "vectors[:, 1, 0] = radius_space * np.cos(phi_space)\n",
    "vectors[:, 1, 1] = radius_space * np.sin(phi_space)\n",
    "# assign x-y position\n",
    "vectors[:, 0] = vectors[:, 1] + 256\n",
    "\n",
    "# add the image\n",
    "viewer = napari.view_image(data.camera(), name='photographer')\n",
    "# add the vectors\n",
    "vectors_layer = viewer.add_vectors(vectors, edge_width=3)"
   ]
  },
  {
   "cell_type": "code",
   "execution_count": null,
   "id": "cd38ef2e",
   "metadata": {
    "tags": [
     "hide-input"
    ]
   },
   "outputs": [],
   "source": [
    "from napari.utils import nbscreenshot\n",
    "\n",
    "nbscreenshot(viewer)"
   ]
  },
  {
   "cell_type": "code",
   "execution_count": null,
   "id": "f3295ccd",
   "metadata": {
    "tags": [
     "remove-cell"
    ]
   },
   "outputs": [],
   "source": [
    "viewer.close()"
   ]
  },
  {
   "cell_type": "markdown",
   "id": "06f3f12e",
   "metadata": {},
   "source": [
    "## arguments of view_vectors and add_vectors\n",
    "\n",
    "{meth}`~napari.view_layers.view_vectors` and {meth}`~napari.Viewer.add_vectors`\n",
    "accept the same layer-creation parameters."
   ]
  },
  {
   "cell_type": "code",
   "execution_count": null,
   "id": "e88980b8",
   "metadata": {
    "tags": [
     "hide-cell"
    ]
   },
   "outputs": [],
   "source": [
    "help(napari.view_vectors)"
   ]
  },
  {
   "cell_type": "markdown",
   "id": "07101f76",
   "metadata": {},
   "source": [
    "## vectors data\n",
    "\n",
    "The input data to the vectors layer must either be a Nx2xD numpy array\n",
    "representing N vectors with start position and projection values in D\n",
    "dimensions, or it must be an N1xN2 ... xNDxD, array where each of the first D\n",
    "dimensions corresponds to the voxel of the location of the vector, and the last\n",
    "dimension contains the D values of the projection of that vector. The former\n",
    "representation is useful when you have vectors that can start in arbitrary\n",
    "positions in the canvas. The latter representation is useful when your vectors\n",
    "are defined on a grid, say corresponding to the voxels of an image, and you have\n",
    "one vector per grid."
   ]
  },
  {
   "cell_type": "markdown",
   "id": "10194fd8",
   "metadata": {},
   "source": [
    "See here for the example from\n",
    "[`examples/add_vectors_image.py`](https://github.com/napari/napari/blob/master/examples/add_vectors_image.py)\n",
    "of a grid of vectors defined over a random image:\n",
    "\n",
    "![image: add vectors overlaid on an\n",
    "image](../assets/tutorials/add_vectors_image.png)"
   ]
  },
  {
   "cell_type": "markdown",
   "id": "8c2b55f7",
   "metadata": {},
   "source": [
    "Regardless of how the data is passed, we convert it to the Nx2xD representation\n",
    "internally. This representation is  accessible through the `layer.data`\n",
    "property.\n",
    "\n",
    "Editing the start position of the vectors from the GUI is not possible. Nor is\n",
    "it possible to draw vectors from the GUI. If you want to draw lines from the GUI\n",
    "you should use the `Lines` shape inside a `Shapes` layer."
   ]
  },
  {
   "cell_type": "markdown",
   "id": "0231eb30",
   "metadata": {},
   "source": [
    "## 3D rendering of vectors\n",
    "\n",
    "All our layers can be rendered in both 2D and 3D mode, and one of our viewer\n",
    "buttons can toggle between each mode. The number of dimensions sliders will be 2\n",
    "or 3 less than the total number of dimensions of the layer. See for example the\n",
    "[`examples/nD_vectors.py`](https://github.com/napari/napari/blob/master/examples/nD_vectors.py)\n",
    "to see shapes in both 2D and 3D:"
   ]
  },
  {
   "cell_type": "markdown",
   "id": "66a1e5f2",
   "metadata": {},
   "source": [
    "![image: nD vectors](../assets/tutorials/nD_vectors.gif)"
   ]
  },
  {
   "cell_type": "markdown",
   "id": "9de9c209",
   "metadata": {},
   "source": [
    "## changing vector length, width, and color\n",
    "\n",
    "You can multiplicatively scale the length of all the vectors projections using\n",
    "the `layer.length` property or combobox inside the layer controls panel.\n",
    "\n",
    "You can also set the width of all the vectors in a layer using the `layer.width`\n",
    "property or combobox inside the layer controls panel.\n",
    "\n",
    "You can also set the color of all the vectors in a layer using the\n",
    "`layer.edge_color` property or dropdown menu inside the layer controls panel."
   ]
  },
  {
   "cell_type": "markdown",
   "id": "24000bc8",
   "metadata": {},
   "source": [
    "## layer visibility\n",
    "\n",
    "All our layers support a visibility toggle that allows you to set the `visible`\n",
    "property of each layer. This property is located inside the layer widget in the\n",
    "layers list and is represented by an eye icon."
   ]
  },
  {
   "cell_type": "markdown",
   "id": "cc8203d8",
   "metadata": {},
   "source": [
    "## layer opacity\n",
    "\n",
    "All our layers support an opacity slider and `opacity` property that allow you\n",
    "to adjust the layer opacity between 0, fully invisible, and 1, fully visible.\n",
    "The opacity value applies globally to all the vectors in the layer."
   ]
  },
  {
   "cell_type": "markdown",
   "id": "8ab3068d",
   "metadata": {},
   "source": [
    "## blending layers\n",
    "\n",
    "All our layers support three blending modes `translucent`, `additive`, and\n",
    "`opaque` that determine how the visuals for this layer get mixed with the\n",
    "visuals from the other layers.\n",
    "\n",
    "An `opaque` layer renders all the other layers below it invisible and will fade\n",
    "to black as you decrease its opacity.\n",
    "\n",
    "The `translucent` setting will cause the layer to blend with the layers below it\n",
    "if you decrease its opacity but will fully block those layers if its opacity is\n",
    "`1`. This is a reasonable default, useful for many applications.\n",
    "\n",
    "The final blending mode `additive` will cause the layer to blend with the layers\n",
    "below even when it has full opacity. This mode is especially useful for\n",
    "visualizing multiple layers at the same time."
   ]
  },
  {
   "cell_type": "markdown",
   "id": "534be3f4",
   "metadata": {},
   "source": [
    "## naming layers\n",
    "\n",
    "All our layers support a `name` property that can be set inside a text box\n",
    "inside the layer widget in the layers list. The name of each layer is forced\n",
    "into being unique so that you can use the name to index into `viewer.layers` to\n",
    "retrieve the layer object."
   ]
  },
  {
   "cell_type": "markdown",
   "id": "44b891b0",
   "metadata": {},
   "source": [
    "## scaling layers\n",
    "\n",
    "All our layers support a `scale` property and keyword argument that will rescale\n",
    "the layer multiplicatively according to the scale values (one for each\n",
    "dimension). This property can be particularly useful for viewing anisotropic\n",
    "data where the size of the voxel in the z dimension might be different then the\n",
    "size in the x and y dimensions."
   ]
  },
  {
   "cell_type": "markdown",
   "id": "79b2771b",
   "metadata": {},
   "source": [
    "## translating layers\n",
    "\n",
    "All our layers support a `translate` property and keyword argument that you can\n",
    "use to offset a layer relative to the other layers, which could be useful if you\n",
    "are trying to overlay two layers for image registration purposes."
   ]
  },
  {
   "cell_type": "markdown",
   "id": "e85fbac5",
   "metadata": {},
   "source": [
    "## layer metadata\n",
    "\n",
    "All our layers also support a `metadata` property and keyword argument that you\n",
    "can use to store an arbitrary metadata dictionary on the layer."
   ]
  },
  {
   "cell_type": "markdown",
   "id": "14399c3a",
   "metadata": {},
   "source": [
    "## next steps\n",
    "\n",
    "Hopefully, this tutorial has given you a detailed understanding of the `Vectors`\n",
    "layer, including how to create one and control its properties. If you've\n",
    "explored all the other layer types that **napari** supports maybe checkout our\n",
    "[gallery](../gallery) for some cool examples of using napari with scientific\n",
    "data."
   ]
  }
 ],
 "metadata": {
  "jupytext": {
   "text_representation": {
    "extension": ".md",
    "format_name": "myst",
    "format_version": 0.13,
    "jupytext_version": "1.10.3"
   }
  },
  "kernelspec": {
   "display_name": "Python 3",
   "language": "python",
   "name": "python3"
  },
  "source_map": [
   12,
   16,
   39,
   51,
   73,
   81,
   85,
   92,
   96,
   110,
   119,
   129,
   139,
   143,
   156,
   164,
   172,
   191,
   200,
   210,
   218,
   225
  ]
 },
 "nbformat": 4,
 "nbformat_minor": 5
}