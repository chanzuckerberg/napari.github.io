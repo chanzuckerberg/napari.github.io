{
 "cells": [
  {
   "cell_type": "markdown",
   "id": "ca35220e",
   "metadata": {},
   "source": [
    "# shapes layer tutorial"
   ]
  },
  {
   "cell_type": "markdown",
   "id": "12885595",
   "metadata": {},
   "source": [
    "Welcome to the tutorial on the **napari** `Shapes` layer!\n",
    "\n",
    "This tutorial assumes you have already installed **napari**, know how to launch\n",
    "the viewer, and are familiar with its layout. For help with installation see our\n",
    "[installation](./installation) tutorial. For help getting started with the\n",
    "viewer see our [getting started](./getting_started) tutorial. For help\n",
    "understanding the organisation of the viewer, including things like the layers\n",
    "list, the layer properties widgets, the layer control panels, and the dimension\n",
    "sliders see our [napari viewer](./viewer) tutorial.\n",
    "\n",
    "This tutorial will teach you about the **napari** `Shapes` layer, including how\n",
    "to display and edit shapes like rectangle, ellipses, polygons, paths, and lines.\n",
    "At the end of the tutorial you should understand how to add a shapes layer and\n",
    "edit it from the GUI and from the console.\n",
    "\n",
    "The points layer allows you to display a list of an NxD arrays, where each array\n",
    "corresponds to one shape, specified by N points in D coordinates. You can adjust\n",
    "the position, size, face color, edge color, and opacity of all the shapes\n",
    "independently, both programmatically and from the GUI."
   ]
  },
  {
   "cell_type": "markdown",
   "id": "1fc80529",
   "metadata": {},
   "source": [
    "## a simple example\n",
    "\n",
    "You can create a new viewer and add a list of shapes in one go using the\n",
    "`napari.view_shapes` method, or if you already have an existing viewer, you can\n",
    "add shapes to it using `viewer.add_shapes`. The api of both methods is the same.\n",
    "In these examples we'll mainly use `add_shapes` to overlay shapes onto on an\n",
    "existing image.\n",
    "\n",
    "In this example of we will overlay some shapes on the image of a photographer:"
   ]
  },
  {
   "cell_type": "code",
   "execution_count": null,
   "id": "970ccf09",
   "metadata": {},
   "outputs": [],
   "source": [
    "import napari\n",
    "import numpy as np\n",
    "from skimage import data\n",
    "\n",
    "# create the list of polygons\n",
    "triangle = np.array([[11, 13], [111, 113], [22, 246]])\n",
    "\n",
    "person = np.array([[505, 60], [402, 71], [383, 42], [251, 95], [212, 59],\n",
    "                   [131, 137], [126, 187], [191, 204], [171, 248], [211, 260],\n",
    "                   [273, 243], [264, 225], [430, 173], [512, 160]])\n",
    "\n",
    "building = np.array([[310, 382], [229, 381], [209, 401], [221, 411],\n",
    "                     [258, 411], [300, 412], [306, 435], [268, 434],\n",
    "                     [265, 454], [298, 461], [307, 461], [307, 507],\n",
    "                     [349, 510], [352, 369], [330, 366], [330, 366]])\n",
    "\n",
    "polygons = [triangle, person, building]\n",
    "\n",
    "# add the image\n",
    "viewer = napari.view_image(data.camera(), name='photographer')\n",
    "\n",
    "# add the polygons\n",
    "shapes_layer = viewer.add_shapes(polygons, shape_type='polygon', edge_width=5,\n",
    "                          edge_color='coral', face_color='royalblue')"
   ]
  },
  {
   "cell_type": "code",
   "execution_count": null,
   "id": "aa0dc092",
   "metadata": {
    "tags": [
     "hide-input"
    ]
   },
   "outputs": [],
   "source": [
    "from napari.utils import nbscreenshot\n",
    "\n",
    "nbscreenshot(viewer)"
   ]
  },
  {
   "cell_type": "code",
   "execution_count": null,
   "id": "f23a73ff",
   "metadata": {
    "tags": [
     "remove-cell"
    ]
   },
   "outputs": [],
   "source": [
    "viewer.close()"
   ]
  },
  {
   "cell_type": "markdown",
   "id": "e78170b9",
   "metadata": {},
   "source": [
    "## arguments of view_shapes and add_shapes\n",
    "\n",
    "{meth}`~napari.view_layers.view_shapes` and {meth}`~napari.Viewer.add_shapes`\n",
    "accept the same layer-creation parameters."
   ]
  },
  {
   "cell_type": "code",
   "execution_count": null,
   "id": "485bc3ee",
   "metadata": {
    "tags": [
     "hide-cell"
    ]
   },
   "outputs": [],
   "source": [
    "help(napari.view_shapes)"
   ]
  },
  {
   "cell_type": "markdown",
   "id": "bd9b7712",
   "metadata": {},
   "source": [
    "## shapes data\n",
    "\n",
    "The input data to the shapes layer must be a list of NxD numpy array, with each\n",
    "array containing the coordinates of the N vertices in D dimensions that make up\n",
    "the shape. The ordering of these dimensions is the same as the ordering of the\n",
    "dimensions for image layers. This list of arrays is always accessible through\n",
    "the `layer.data` property and will grow or shrink as new shapes are either added\n",
    "or deleted. By storing data as a list of arrays it is possible for each shape to\n",
    "have a different number of vertices in it. This is especially useful when\n",
    "drawing polygons or paths."
   ]
  },
  {
   "cell_type": "markdown",
   "id": "182210a7",
   "metadata": {},
   "source": [
    "## adding different shape types\n",
    "\n",
    "Right now the shapes layer supports 5 types of shapes, `Lines`, `Rectangles`,\n",
    "`Ellipses`, `Polygons`, and `Paths`. When adding new data can set the shape type\n",
    "through the `shape_type` keyword argument, as either a single shape type if all\n",
    "the shapes to be added have the same type or as a list of shape types if some of\n",
    "the shapes have different types. The actual shape types of all the shapes is\n",
    "accessible through the `layer.shape_types` property. Selecting different shape\n",
    "creation tools will cause shapes of the different types to be added."
   ]
  },
  {
   "cell_type": "markdown",
   "id": "e8c0d7d4",
   "metadata": {},
   "source": [
    "`Lines` consist of two vertices representing the end points of the line. The\n",
    "line creation tool can be selected from the layer control panel or by pressing\n",
    "the `L` key when the shapes layer is selected. When adding a new line the first\n",
    "click will coordinates of the first endpoint and the second click will mark the\n",
    "coordinates of the second endpoint. You'll then be able to add another line."
   ]
  },
  {
   "cell_type": "markdown",
   "id": "49d41672",
   "metadata": {},
   "source": [
    "`Rectangles` can be added using two vertices representing the corners of the\n",
    "rectangle for axis aligned rectangle, or using four corners so that non-axis\n",
    "aligned rectangle can be represented too. Internally we use the four vertex\n",
    "representation so we can always support rotated rectangles. The rectangle\n",
    "creation tool can be selected from the layer control panel or by pressing the\n",
    "`R` key when the shapes layer is selected. When adding a rectangle you must\n",
    "click and drag the rectangle to have the desired shape. When you release the\n",
    "mouse the rectangle will be completed and you'll then be able to add another\n",
    "one. If you just make a single click then a rectangle of default size will be\n",
    "created centered on that click."
   ]
  },
  {
   "cell_type": "markdown",
   "id": "57b67d9d",
   "metadata": {},
   "source": [
    "`Ellipses` can be added using either two vectors, one representing the center\n",
    "position of the ellipse and the other representing the radii of the ellipse in\n",
    "all dimensions for an axis aligned ellipse, or by using the four corners of the\n",
    "ellipse bounding box for a non-axis aligned ellipse. Internally we use the four\n",
    "vertex representation so we can always support rotated ellipses. The ellipse\n",
    "creation tool can be selected from the layer control panel or by pressing the\n",
    "`E` key when the shapes layer is selected. When adding an ellipse you must click\n",
    "and drag the ellipse to have the desired shape. When you release the mouse the\n",
    "ellipse will be completed and you'll then be able to add another one. If you\n",
    "just make a single click then an ellipse of default size will be created\n",
    "centered on that click."
   ]
  },
  {
   "cell_type": "markdown",
   "id": "5f2efbc3",
   "metadata": {},
   "source": [
    "`Polygons` can be added using an array of N vertices. Polygons are closed by\n",
    "default, and so you don't also need to include the first point at the end of the\n",
    "array. The order of the vertices will determine the triangulation of the\n",
    "polygon, which can be non-convex, but cannot have holes. The polygon creation\n",
    "tool can be selected from the layer control panel or by pressing the `P` key\n",
    "when the shapes layer is selected. When adding a polygon each click will add a\n",
    "vertex at the clicked location. To finish drawing a polygon you must click the\n",
    "`escape` key, which will add a final vertex at the current mouse position and\n",
    "complete the polygon. You'll then be able to start adding another one."
   ]
  },
  {
   "cell_type": "markdown",
   "id": "fce46cef",
   "metadata": {},
   "source": [
    "`Paths` are like polygons but are not closed or filled in. They can also be\n",
    "added using an array of N vertices. The path creation tool can be selected from\n",
    "the layer control panel or by pressing the `T` key when the shapes layer is\n",
    "selected. When adding a path each click will add a vertex at the clicked\n",
    "location. To finish drawing a path you must click the `escape` key, which will\n",
    "add a final vertex at the current mouse position and complete the path. You'll\n",
    "then be able to start adding another one."
   ]
  },
  {
   "cell_type": "markdown",
   "id": "c8001638",
   "metadata": {},
   "source": [
    "When using the shapes addition or editing tools the pan and zoom functionality\n",
    "of the viewer canvas is disabled and you can edit the layer. You can temporarily\n",
    "re-enable pan and zoom by pressing and holding the spacebar. This feature can be\n",
    "useful if you want to move around the shapes layer as you edit it."
   ]
  },
  {
   "cell_type": "markdown",
   "id": "97f375d7",
   "metadata": {},
   "source": [
    "You can add new shapes to an existing `Shapes` layer programmatically by using \n",
    "the `add` method, which allows you to pass in a `shape_type` list when you \n",
    "have mixed shape data."
   ]
  },
  {
   "cell_type": "code",
   "execution_count": null,
   "id": "f6a4cc48",
   "metadata": {},
   "outputs": [],
   "source": [
    "import napari\n",
    "import numpy as np\n",
    "from skimage import data\n",
    "\n",
    "# add the image\n",
    "viewer = napari.view_image(data.camera(), name='photographer')\n",
    "\n",
    "# create a triangle\n",
    "triangle = np.array([[11, 13], [111, 113], [22, 246]])\n",
    "\n",
    "# create an ellipse\n",
    "ellipse = np.array([[59, 222], [110, 289], [170, 243], [119, 176]])\n",
    "\n",
    "# put both shapes in a list\n",
    "mixed_shapes = [triangle, ellipse]\n",
    "\n",
    "# add an empty shapes layer\n",
    "shapes_layer = viewer.add_shapes()\n",
    "\n",
    "# add mixed shapes using the `add` method\n",
    "shapes_layer.add(\n",
    "  mixed_shapes, \n",
    "  shape_type=['polygon', 'ellipse'], \n",
    "  edge_width=5,\n",
    "  edge_color='coral', \n",
    "  face_color='royalblue'\n",
    ")"
   ]
  },
  {
   "cell_type": "code",
   "execution_count": null,
   "id": "8dc6f532",
   "metadata": {
    "tags": [
     "hide-input"
    ]
   },
   "outputs": [],
   "source": [
    "from napari.utils import nbscreenshot\n",
    "\n",
    "nbscreenshot(viewer)"
   ]
  },
  {
   "cell_type": "code",
   "execution_count": null,
   "id": "3c4cc453",
   "metadata": {
    "tags": [
     "remove-cell"
    ]
   },
   "outputs": [],
   "source": [
    "viewer.close()"
   ]
  },
  {
   "cell_type": "markdown",
   "id": "524cd6f1",
   "metadata": {},
   "source": [
    "Finally, each shape type has its own convenience method for adding new shapes\n",
    "to a layer. Their arguments are identical to those of the `add` method, but\n",
    "they do not take a `shape_type`."
   ]
  },
  {
   "cell_type": "code",
   "execution_count": null,
   "id": "921ade6e",
   "metadata": {},
   "outputs": [],
   "source": [
    "import napari\n",
    "import numpy as np\n",
    "from skimage import data\n",
    "\n",
    "# add the image\n",
    "viewer = napari.view_image(data.camera(), name='photographer')\n",
    "\n",
    "# create some ellipses\n",
    "ellipse = np.array([[59, 222], [110, 289], [170, 243], [119, 176]])\n",
    "\n",
    "ellipse2 = np.array([[165, 329], [165, 401], [234, 401], [234, 329]])\n",
    "\n",
    "# put both shapes in a list\n",
    "ellipses = [ellipse, ellipse2]\n",
    "\n",
    "# add an empty shapes layer\n",
    "shapes_layer = viewer.add_shapes()\n",
    "\n",
    "# add ellipses using their convenience method\n",
    "shapes_layer.add_ellipses(\n",
    "  ellipses, \n",
    "  edge_width=5,\n",
    "  edge_color='coral', \n",
    "  face_color='royalblue'\n",
    ")"
   ]
  },
  {
   "cell_type": "code",
   "execution_count": null,
   "id": "a53d863b",
   "metadata": {
    "tags": [
     "hide-input"
    ]
   },
   "outputs": [],
   "source": [
    "from napari.utils import nbscreenshot\n",
    "\n",
    "nbscreenshot(viewer)"
   ]
  },
  {
   "cell_type": "code",
   "execution_count": null,
   "id": "b07bc509",
   "metadata": {
    "tags": [
     "remove-cell"
    ]
   },
   "outputs": [],
   "source": [
    "viewer.close()"
   ]
  },
  {
   "cell_type": "markdown",
   "id": "25db2b1c",
   "metadata": {},
   "source": [
    "## creating a new shapes layer\n",
    "\n",
    "As you can add new shapes to a shapes layer using the various shape creation\n",
    "tools, it is possible to create a brand-new empty shapes layers by clicking the\n",
    "new shapes layer button above the layers list. The shape of the shapes layer is\n",
    "defined by the shapes inside it, and so as you add new shapes the shape will\n",
    "adjust as needed. The dimension of the new shapes layer will default to the\n",
    "largest dimension of any layer currently in the viewer, or to 2 if no other\n",
    "layers are present in the viewer."
   ]
  },
  {
   "cell_type": "markdown",
   "id": "db97837f",
   "metadata": {},
   "source": [
    "## non-editable mode\n",
    "\n",
    "If you want to disable editing of the shapes layer you can set the `editable`\n",
    "property of the layer to `False`.\n",
    "\n",
    "As note in the section on 3D rendering, when using 3D rendering the shapes layer\n",
    "is not editable."
   ]
  },
  {
   "cell_type": "markdown",
   "id": "9e1e9acb",
   "metadata": {},
   "source": [
    "## 3D rendering of shapes\n",
    "\n",
    "All our layers can be rendered in both 2D and 3D mode, and one of our viewer\n",
    "buttons can toggle between each mode. The number of dimensions sliders will be 2\n",
    "or 3 less than the total number of dimensions of the layer. See for example the\n",
    "[`examples/nD_shapes.py`](https://github.com/napari/napari/blob/master/examples/nD_shapes.py)\n",
    "to see shapes in both 2D and 3D:"
   ]
  },
  {
   "cell_type": "markdown",
   "id": "cac59737",
   "metadata": {},
   "source": [
    "![image: nD shapes](../assets/tutorials/nD_shapes.gif)"
   ]
  },
  {
   "cell_type": "markdown",
   "id": "9b6ba464",
   "metadata": {},
   "source": [
    "Note though that when entering 3D rendering mode the shape editing tools are all\n",
    "disabled. Those options are only supported when viewing a layer using 2D\n",
    "rendering.\n",
    "\n",
    "Also note that for a multidimensional shape to be displayed on a given view\n",
    "slice all of its non-displayed coordinates must match the coordinates of that\n",
    "view slice, i.e. the shape must be entirely defined within that plane.\n",
    "\n",
    "For paths that are defined by coordinates spanning more than two dimensions, it\n",
    "is possible to visualize them as 3D cylinders, see for example the\n",
    "[`examples/3D_paths.py`](https://github.com/napari/napari/blob/master/examples/3D_paths.py)"
   ]
  },
  {
   "cell_type": "markdown",
   "id": "bebafa89",
   "metadata": {},
   "source": [
    "![image: 3D paths](../assets/tutorials/3D_paths.png)"
   ]
  },
  {
   "cell_type": "markdown",
   "id": "8ca2529a",
   "metadata": {},
   "source": [
    "Right now, it is not possible to display 3D cuboids or 3D spheroids, but will be\n",
    "supporting those options soon."
   ]
  },
  {
   "cell_type": "markdown",
   "id": "ac63e886",
   "metadata": {},
   "source": [
    "## pan and zoom mode\n",
    "\n",
    "The default mode of the shapes layer is to support panning and zooming, as in\n",
    "the image layer. This mode is represented by the magnifying glass in the layers\n",
    "control panel, and while it is selected editing the layer is not possible.\n",
    "Continue reading to learn how to use some of the editing modes. You can always\n",
    "return to pan and zoom mode by pressing the `Z` key when the shapes layer is\n",
    "selected."
   ]
  },
  {
   "cell_type": "markdown",
   "id": "5611cf06",
   "metadata": {},
   "source": [
    "## selecting, resizing, moving, and deleting shapes\n",
    "\n",
    "New shapes can be added using one of the 5 shape creation tools, for `Lines`,\n",
    "`Rectangles`, `Ellipses`, `Polygons`, and `Paths`. For more information on the\n",
    "different shape types see the shape types section.\n",
    "\n",
    "You can select a shape by clicking on it using the shape selection tool, which\n",
    "can be selected by clicking on it in the layer controls panel or by pressing the\n",
    "`S` key when the shapes layer is selected. Once selected you can move the shape\n",
    "by dragging it. You can also resize the shape by clicking and dragging on one of\n",
    "the handles along the edge of the shape bounding box. You can also rotate the\n",
    "shape by clicking and dragging on the rotation handle above the shape bounding\n",
    "box.\n",
    "\n",
    "When resizing a layer if you hold down the `shift` key the aspect ratio of the\n",
    "shape will lock and you can continue to resize the shape now with a fixed aspect\n",
    "ratio.\n",
    "\n",
    "You can select multiple shapes by continuing to shift click on additional shapes\n",
    "after the first, or by dragging a bounding box around the shapes you want to\n",
    "select.\n",
    "\n",
    "You can select all the shapes in the currently viewed slice by clicking the `A`\n",
    "key if you are in select mode.\n",
    "\n",
    "Once selected you can delete the selected shapes by clicking on the delete\n",
    "button in the layer controls panel or pressing the delete key."
   ]
  },
  {
   "cell_type": "markdown",
   "id": "c3fa704f",
   "metadata": {},
   "source": [
    "For example see below: ![image: shape\n",
    "resizing](../assets/tutorials/shape_resizing.gif)"
   ]
  },
  {
   "cell_type": "markdown",
   "id": "be47c284",
   "metadata": {},
   "source": [
    "## adding, moving, and deleting individual vertices\n",
    "\n",
    "You can move individual vertices by entering the direct selection mode by either\n",
    "clicking on the direct select tool in the layer controls panel or pressing the\n",
    "`D` key while the shapes layer is selected. To move a vertex, you can click and\n",
    "drag it to its new position.\n",
    "\n",
    "You can add vertices to a selected shape using the vertex addition tool which\n",
    "can be selected either clicking on the vertex addition tool in the layer\n",
    "controls panel or pressing the `I` key while the shapes layer is selected.\n",
    "\n",
    "You can delete vertices to a selected shape using the vertex deletion tool which\n",
    "can be selected either clicking on the vertex deletion tool in the layer\n",
    "controls panel or pressing the `X` key while the shapes layer is selected."
   ]
  },
  {
   "cell_type": "markdown",
   "id": "e0d0da34",
   "metadata": {},
   "source": [
    "For example see below: ![image: shape vertex\n",
    "editing](../assets/tutorials/shape_vertex_editing.gif)"
   ]
  },
  {
   "cell_type": "markdown",
   "id": "f877ab33",
   "metadata": {},
   "source": [
    "## changing shape edge and face colors\n",
    "\n",
    "Individual shapes can each have different edge and face colors. You can\n",
    "initially set these colors by providing a list of colors to the `edge_color` or\n",
    "`face_color` keyword arguments respectively, or you can edit them from the GUI.\n",
    "The colors of each of the shapes are available as lists under the\n",
    "`layer.edge_colors` and `layer.face_colors` properties. These properties are\n",
    "different from the `layer.edge_color` and `layer.face_color` properties that\n",
    "will determine the color of the next shape to be added or any currently selected\n",
    "shapes.\n",
    "\n",
    "To change the shape color properties from the GUI you must first select the\n",
    "shape whose properties you want to change, otherwise you will just be\n",
    "initializing the property for the next shape you add."
   ]
  },
  {
   "cell_type": "markdown",
   "id": "d9c51ceb",
   "metadata": {},
   "source": [
    "## changing shape edge widths\n",
    "\n",
    "Individual shapes can each have different edge widths. You can initially set the\n",
    "edge widths by providing a list of values to the `edge_width` keyword arguments\n",
    "respectively, or you can edit them from the GUI. The widths of each of the\n",
    "shapes are available as a list under the `layer.edge_widths` property. Similar\n",
    "to the edge and face colors, these property is different from the\n",
    "`layer.edge_width` property that will determine the edge width of the next shape\n",
    "to be added or any currently selected shapes.\n",
    "\n",
    "To change the edge with property from the GUI you must first select the shape\n",
    "whose properties you want to change, otherwise you will just be initializing the\n",
    "property for the next shape you add."
   ]
  },
  {
   "cell_type": "markdown",
   "id": "032d6431",
   "metadata": {},
   "source": [
    "## layer ordering\n",
    "\n",
    "You can adjust the ordering of shapes in the layer by selecting shapes and then\n",
    "clicking the move to front or move to back buttons. You can get the ordering of\n",
    "all the shapes using the `layer.z_indices` property. You can also set the\n",
    "initial ordering of shapes by passing a list to the `layer.z_index` property."
   ]
  },
  {
   "cell_type": "markdown",
   "id": "e57fd81d",
   "metadata": {},
   "source": [
    "## copying and pasting shapes\n",
    "\n",
    "It is possible to copy and paste any selected shapes using the `ctrl-C` and\n",
    "`ctrl-V` keybindings respectively. If you have a multidimensional shapes layer\n",
    "you can copy shapes from one slice to another by pasting them into the new\n",
    "slice. The coordinates of the shapes in the visible dimensions will be in the\n",
    "same place on the new slice as in the old slice, but the rest of the coordinates\n",
    "will be updated with the new slice values."
   ]
  },
  {
   "cell_type": "markdown",
   "id": "a2193732",
   "metadata": {},
   "source": [
    "## layer visibility\n",
    "\n",
    "All our layers support a visibility toggle that allows you to set the `visible`\n",
    "property of each layer. This property is located inside the layer widget in the\n",
    "layers list and is represented by an eye icon."
   ]
  },
  {
   "cell_type": "markdown",
   "id": "75836aae",
   "metadata": {},
   "source": [
    "## layer opacity\n",
    "\n",
    "All our layers support an opacity slider and `opacity` property that allow you\n",
    "to adjust the layer opacity between 0, fully invisible, and 1, fully visible.\n",
    "The opacity value applies individually to each shape in the layer, and so you\n",
    "must have shapes selected for it to have an effect.\n",
    "\n",
    "You can also initialize the shape opacities using the `opacity` keyword argument\n",
    "which accepts either a list of opacities or a single opacity value that will be\n",
    "applied globally. You can then access the opacity of every shape using the\n",
    "`layer.opacities` property. Note that this property is different from the\n",
    "`layer.opacity` property that determines the opacity of the next shape to be\n",
    "added."
   ]
  },
  {
   "cell_type": "markdown",
   "id": "a59aeeec",
   "metadata": {},
   "source": [
    "## blending layers\n",
    "\n",
    "All our layers support three blending modes `translucent`, `additive`, and\n",
    "`opaque` that determine how the visuals for this layer get mixed with the\n",
    "visuals from the other layers.\n",
    "\n",
    "An `opaque` layer renders all the other layers below it invisible and will fade\n",
    "to black as you decrease its opacity.\n",
    "\n",
    "The `translucent` setting will cause the layer to blend with the layers below it\n",
    "if you decrease its opacity but will fully block those layers if its opacity is\n",
    "1. This is a reasonable default, useful for many applications.\n",
    "\n",
    "The final blending mode `additive` will cause the layer to blend with the layers\n",
    "below even when it has full opacity. This mode is especially useful for\n",
    "visualizing multiple layers at the same time."
   ]
  },
  {
   "cell_type": "markdown",
   "id": "21e39b7a",
   "metadata": {},
   "source": [
    "## naming layers\n",
    "\n",
    "All our layers support a `name` property that can be set inside a text box\n",
    "inside the layer widget in the layers list. The name of each layer is forced\n",
    "into being unique so that you can use the name to index into `viewer.layers` to\n",
    "retrieve the layer object."
   ]
  },
  {
   "cell_type": "markdown",
   "id": "8f0843ef",
   "metadata": {},
   "source": [
    "## scaling layers\n",
    "\n",
    "All our layers support a `scale` property and keyword argument that will rescale\n",
    "the layer multiplicatively according to the scale values (one for each\n",
    "dimension). This property can be particularly useful for viewing anisotropic\n",
    "data where the size of the voxel in the z dimension might be different then the\n",
    "size in the x and y dimensions."
   ]
  },
  {
   "cell_type": "markdown",
   "id": "e2520c72",
   "metadata": {},
   "source": [
    "## translating layers\n",
    "\n",
    "All our layers support a `translate` property and keyword argument that you can\n",
    "use to offset a layer relative to the other layers, which could be useful if you\n",
    "are trying to overlay two layers for image registration purposes."
   ]
  },
  {
   "cell_type": "markdown",
   "id": "6b82e8e1",
   "metadata": {},
   "source": [
    "## layer metadata\n",
    "\n",
    "All our layers also support a `metadata` property and keyword argument that you\n",
    "can use to store an arbitrary metadata dictionary on the layer."
   ]
  },
  {
   "cell_type": "markdown",
   "id": "12cc7ed2",
   "metadata": {},
   "source": [
    "## putting it all together\n",
    "\n",
    "Here you can see an example of adding, selecting, and editing shapes and change\n",
    "their properties:"
   ]
  },
  {
   "cell_type": "markdown",
   "id": "b4a1bbbc",
   "metadata": {},
   "source": [
    "![image: editing shapes](../assets/tutorials/editing_shapes.gif)"
   ]
  },
  {
   "cell_type": "markdown",
   "id": "58454094",
   "metadata": {},
   "source": [
    "## next steps\n",
    "\n",
    "Hopefully, this tutorial has given you a detailed understanding of the `Shapes`\n",
    "layer, including how to create one and control its properties. To learn more\n",
    "about some of the other layer types that **napari** supports checkout some more\n",
    "of our tutorials listed below. The [surface layer](./surface) tutorial is a\n",
    "great one to try next as it describes rendering complex surfaces."
   ]
  }
 ],
 "metadata": {
  "jupytext": {
   "text_representation": {
    "extension": ".md",
    "format_name": "myst",
    "format_version": 0.13,
    "jupytext_version": "1.10.3"
   }
  },
  "kernelspec": {
   "display_name": "Python 3",
   "language": "python",
   "name": "python3"
  },
  "source_map": [
   12,
   16,
   38,
   50,
   77,
   85,
   89,
   96,
   100,
   113,
   125,
   133,
   146,
   160,
   172,
   182,
   189,
   195,
   225,
   233,
   239,
   245,
   273,
   281,
   287,
   299,
   309,
   319,
   323,
   337,
   341,
   346,
   357,
   387,
   392,
   409,
   414,
   431,
   447,
   456,
   467,
   475,
   491,
   510,
   519,
   529,
   537,
   544,
   551,
   555
  ]
 },
 "nbformat": 4,
 "nbformat_minor": 5
}