{
 "cells": [
  {
   "cell_type": "markdown",
   "id": "8b830dc5",
   "metadata": {},
   "source": [
    "# points layer tutorial"
   ]
  },
  {
   "cell_type": "markdown",
   "id": "b0818c51",
   "metadata": {},
   "source": [
    "Welcome to the tutorial on the **napari** `Points` layer!\n",
    "\n",
    "This tutorial assumes you have already installed **napari**, know how to launch\n",
    "the viewer, and are familiar with its layout. For help with installation see our\n",
    "[installation](./installation) tutorial. For help getting started with the\n",
    "viewer see our [getting started](./getting_started) tutorial. For help\n",
    "understanding the organisation of the viewer, including things like the layers\n",
    "list, the layer properties widgets, the layer control panels, and the dimension\n",
    "sliders see our [napari viewer](./viewer) tutorial.\n",
    "\n",
    "This tutorial will teach you about the **napari** `Points` layer, including\n",
    "displays spots over an image that have been found in an automated fashion, or\n",
    "manually annotating an image with points. At the end of the tutorial you should\n",
    "understand how to add a points layer and edit it from the GUI and from the\n",
    "console.\n",
    "\n",
    "The points layer allows you to display an NxD array of N points in D\n",
    "coordinates. You can adjust the size, face color, and edge color of all the\n",
    "points independently. You can also adjust the opactiy, edge width, and symbol\n",
    "representing all the points simultaneously.\n",
    "\n",
    "Each data point can have annotations associated with it using the\n",
    "`Points.properties` dictionary. These properties can be used to set the face and\n",
    "edge colors of the points. For example, when displaying points of different\n",
    "classes/types, one could automatically set color the individual points by their\n",
    "respective class/type. For more details on point properties, see the \"setting\n",
    "point edge and face color with properties\" below or the [point annotation\n",
    "tutorial](../applications/annotate_points)."
   ]
  },
  {
   "cell_type": "markdown",
   "id": "93690976",
   "metadata": {},
   "source": [
    "## a simple example\n",
    "\n",
    "You can create a new viewer and add a set of points in one go using the\n",
    "`napari.view_points` method, or if you already have an existing viewer, you can\n",
    "add points to it using `viewer.add_points`. The api of both methods is the same.\n",
    "In these examples we'll mainly use `add_points` to overlay points onto on an\n",
    "existing image.\n",
    "\n",
    "In this example of we will overlay some points on the image of an astronaut:"
   ]
  },
  {
   "cell_type": "code",
   "execution_count": null,
   "id": "5a4031cc",
   "metadata": {},
   "outputs": [],
   "source": [
    "import napari\n",
    "import numpy as np\n",
    "from skimage import data\n",
    "\n",
    "viewer = napari.view_image(data.astronaut(), rgb=True)\n",
    "points = np.array([[100, 100], [200, 200], [300, 100]])\n",
    "\n",
    "points_layer = viewer.add_points(points, size=30)"
   ]
  },
  {
   "cell_type": "code",
   "execution_count": null,
   "id": "95f287d6",
   "metadata": {
    "tags": [
     "hide-input"
    ]
   },
   "outputs": [],
   "source": [
    "from napari.utils import nbscreenshot\n",
    "\n",
    "nbscreenshot(viewer)"
   ]
  },
  {
   "cell_type": "code",
   "execution_count": null,
   "id": "224cb738",
   "metadata": {
    "tags": [
     "remove-cell"
    ]
   },
   "outputs": [],
   "source": [
    "viewer.close()"
   ]
  },
  {
   "cell_type": "markdown",
   "id": "9221dc20",
   "metadata": {},
   "source": [
    "## arguments of view_points and add_points\n",
    "\n",
    "{meth}`~napari.view_layers.view_points` and {meth}`~napari.Viewer.add_points`\n",
    "accept the same layer-creation parameters."
   ]
  },
  {
   "cell_type": "code",
   "execution_count": null,
   "id": "ab6cacde",
   "metadata": {
    "tags": [
     "hide-cell"
    ]
   },
   "outputs": [],
   "source": [
    "help(napari.view_points)"
   ]
  },
  {
   "cell_type": "markdown",
   "id": "21ef3d74",
   "metadata": {},
   "source": [
    "## points data\n",
    "\n",
    "The input data to the points layer must be an NxD numpy array containing the\n",
    "coordinates of N points in D dimensions. The ordering of these dimensions is the\n",
    "same as the ordering of the dimensions for image layers. This array is always\n",
    "accessible through the `layer.data` property and will grow or shrink as new\n",
    "points are either added or deleted."
   ]
  },
  {
   "cell_type": "markdown",
   "id": "9122ab2f",
   "metadata": {},
   "source": [
    "## using the points properties dictionary\n",
    "\n",
    "The `Points` layer can contain properties that annotate each point.\n",
    "`Points.properties` stores the properties in a dictionary where each key is the\n",
    "name of the property and the values are numpy arrays with a value for each point\n",
    "(i.e., length N for N points in `Points.data`). As we will see below, we can use\n",
    "the values in a property to set the display properties of the points (e.g., face\n",
    "color or edge color). To see the points properties in action, please see the\n",
    "[point annotation tutorial](../applications/annotate_points)."
   ]
  },
  {
   "cell_type": "markdown",
   "id": "5fe4f4be",
   "metadata": {},
   "source": [
    "## creating a new points layer\n",
    "\n",
    "As you can add new points to a points layer using the add points tool, it is\n",
    "possible to create a brand new empty points layers by clicking the new points\n",
    "layer button above the layers list. The shape of the points layer is defined by\n",
    "the points inside it, and so as you add new points the shape will adjust as\n",
    "needed. The dimension of the new points layer will default to the largest\n",
    "dimension of any layer currently in the viewer, or to 2 if no other layers are\n",
    "present in the viewer."
   ]
  },
  {
   "cell_type": "markdown",
   "id": "68d56cf1",
   "metadata": {},
   "source": [
    "## non-editable mode\n",
    "\n",
    "If you want to disable editing of the points layer you can set the `editable`\n",
    "property of the layer to `False`.\n",
    "\n",
    "As note in the section on 3D rendering, when using 3D rendering the points layer\n",
    "is not editable."
   ]
  },
  {
   "cell_type": "markdown",
   "id": "2a810fb6",
   "metadata": {},
   "source": [
    "## 3D rendering of points\n",
    "\n",
    "All our layers can be rendered in both 2D and 3D mode, and one of our viewer\n",
    "buttons can toggle between each mode. The number of dimensions sliders will be 2\n",
    "or 3 less than the total number of dimensions of the layer. See for example\n",
    "these points overlaid on an image in both 2D and 3D:"
   ]
  },
  {
   "cell_type": "markdown",
   "id": "c019163f",
   "metadata": {},
   "source": [
    "![image: smFISH with points overlaid](../assets/tutorials/smFISH.gif)"
   ]
  },
  {
   "cell_type": "markdown",
   "id": "89ae8c8d",
   "metadata": {},
   "source": [
    "Note though that when entering 3D rendering mode the point add, delete, and\n",
    "select tools are all disabled. Those options are only supported when viewing a\n",
    "layer using 2D rendering."
   ]
  },
  {
   "cell_type": "markdown",
   "id": "4029c949",
   "metadata": {},
   "source": [
    "## pan and zoom mode\n",
    "\n",
    "The default mode of the points layer is to support panning and zooming, as in\n",
    "the image layer. This mode is represented by the magnifying glass in the layers\n",
    "control panel, and while it is selected editing the layer is not possible.\n",
    "Continue reading to learn how to use some of the editing modes. You can always\n",
    "return to pan and zoom mode by pressing the `Z` key when the points layer is\n",
    "selected."
   ]
  },
  {
   "cell_type": "markdown",
   "id": "5044e471",
   "metadata": {},
   "source": [
    "## adding, deleting, and selecting points\n",
    "\n",
    "New points can be added using the point adding tool. This tool can be selected\n",
    "from layer controls panel. Points can then be added by clicking in the canvas.\n",
    "If you have a multidimensional points layer then the coordinates of the new\n",
    "point will keep track of the currently viewed slice that you added the point\n",
    "too. You can quickly select the add points tool by pressing the `P` key when the\n",
    "points layer is selected. The point adding tool also supports panning and\n",
    "zooming.\n",
    "\n",
    "You can select a point by selecting the select points tool and then clicking on\n",
    "that point. You can select multiple points by continuing to shift click on\n",
    "additional points, or by dragging a bounding box around the points you want to\n",
    "select. You can quickly select the select points tool by pressing the `S` key\n",
    "when the points layer is selected.\n",
    "\n",
    "You can select all the points in the currently viewed slice by clicking the `A`\n",
    "key if you are in select mode.\n",
    "\n",
    "Once selected you can delete the selected points by clicking on the delete\n",
    "button in the layer controls panel or pressing the delete key.\n",
    "\n",
    "When using the point selection tool the pan and zoom functionality of the viewer\n",
    "canvas is disabled and you are able to select points the layer. You can\n",
    "temporarily re-enable pan and zoom by pressing and holding the spacebar. This\n",
    "feature can be useful if you want to move around the points layer as you create\n",
    "your selection."
   ]
  },
  {
   "cell_type": "markdown",
   "id": "87385968",
   "metadata": {},
   "source": [
    "## changing points size\n",
    "\n",
    "Each point can have a different size. You can pass a list or 1-dimensional array\n",
    "of points through the size keyword argument to initialize the layer with points\n",
    "of different sizes. These sizes are then accessible through the `sizes`\n",
    "property. If you pass a single size then all points will get initialized with\n",
    "that size. Points can be pseduo-visualized as n-dimensionsal if the\n",
    "`n-dimensional` property is set to `True` or the `n-dimensional` checkbox is\n",
    "checked. In this setting when viewing different slices of the layer points will\n",
    "appear in the neighbouring slices to the ones in which they are located with a\n",
    "size scaled by the distance from their center to that slice. This feature can be\n",
    "especially useful when visualizing 2D slices of points that are located in a 3D\n",
    "volume.\n",
    "\n",
    "Points can also be resized within the GUI by first selecting them and then\n",
    "adjusting the point size slider. If no points are selected, then adjusting the\n",
    "slider value will only serve to initialize the size for new points that are\n",
    "about to be added. The value of the size of the next point to be added can be\n",
    "found in the `layer.size` property. Note this property is different from\n",
    "`layer.sizes` which contains the current sizes of all the points."
   ]
  },
  {
   "cell_type": "markdown",
   "id": "389f087a",
   "metadata": {},
   "source": [
    "## changing points edge and face color\n",
    "\n",
    "Individual points can each have different edge and face colors. You can\n",
    "initially set these colors by providing a list of colors to the `edge_color` or\n",
    "`face_color` keyword arguments respectively, or you can edit them from the GUI.\n",
    "The colors of each of the points are available as lists under the\n",
    "`layer.edge_colors` and `layer.face_colors` properties. Similar to the `sizes`\n",
    "and `size` properties these properties are different from the `layer.edge_color`\n",
    "and `layer.face_color` properties that will determine the color of the next\n",
    "point to be added or any currently selected points.\n",
    "\n",
    "To change the point color properties from the GUI you must first select the\n",
    "points whose properties you want to change, otherwise you will just be\n",
    "initializing the property for the next point you add."
   ]
  },
  {
   "cell_type": "markdown",
   "id": "17acbf91",
   "metadata": {},
   "source": [
    "## setting point edge and face color with properties\n",
    "\n",
    "Point edge and face colors can be set as a function of a property in\n",
    "`Points.properties`. There are two ways that the values in properties can be\n",
    "mapped to colors: (1) color cycles and (2) colormaps.\n",
    "\n",
    "Color cycles are sets of colors that are mapped to categorical properties. The\n",
    "colors are repeated if the number of unique property values is greater than the\n",
    "number of colors in the color cycle.\n",
    "\n",
    "Colormaps are a continuum of colors that are mapped to a continuous property\n",
    "value. The available colormaps are listed below (colormaps are from\n",
    "[vispy](https://vispy.org/api/vispy.color.colormap.html#vispy.color.colormap.Colormap)). For some guidance on\n",
    "choosing colormaps, see the [matplotlib colormap\n",
    "docs](https://matplotlib.org/3.2.0/tutorials/colors/colormaps.html)."
   ]
  },
  {
   "cell_type": "code",
   "execution_count": null,
   "id": "251c7d8f",
   "metadata": {},
   "outputs": [],
   "source": [
    "list(napari.utils.colormaps.AVAILABLE_COLORMAPS)"
   ]
  },
  {
   "cell_type": "markdown",
   "id": "f4b080d0",
   "metadata": {},
   "source": [
    "### setting edge or face color with a color cycle\n",
    "\n",
    "Here we will set the edge color of the markers with a color cycle on a property.\n",
    "To do the same for a face color, substitute `face_color` for `edge_color` in the\n",
    "example snippet below."
   ]
  },
  {
   "cell_type": "code",
   "execution_count": null,
   "id": "67b29769",
   "metadata": {},
   "outputs": [],
   "source": [
    "viewer = napari.view_image(data.astronaut(), rgb=True)\n",
    "points = np.array([[100, 100], [200, 200], [300, 100]])\n",
    "point_properties = {\n",
    "    'good_point': np.array([True, True, False]),\n",
    "    'confidence': np.array([0.99, 0.8, 0.2]),\n",
    "}\n",
    "\n",
    "points_layer = viewer.add_points(\n",
    "    points,\n",
    "    properties=point_properties,\n",
    "    edge_color='good_point',\n",
    "    edge_color_cycle=['magenta', 'green'],\n",
    "    edge_width=5,\n",
    ")"
   ]
  },
  {
   "cell_type": "code",
   "execution_count": null,
   "id": "e832e944",
   "metadata": {
    "tags": [
     "hide-input"
    ]
   },
   "outputs": [],
   "source": [
    "nbscreenshot(viewer)"
   ]
  },
  {
   "cell_type": "code",
   "execution_count": null,
   "id": "ab43406b",
   "metadata": {
    "tags": [
     "remove-cell"
    ]
   },
   "outputs": [],
   "source": [
    "viewer.close()"
   ]
  },
  {
   "cell_type": "markdown",
   "id": "a0e0845c",
   "metadata": {},
   "source": [
    "In the example above, the properties (`point_properties`) were provided as a\n",
    "dictionary with two properties: `good_point` and `confidence`. The values of\n",
    "each property are stored in a numpy ndarray with length 3 since there were three\n",
    "coordinates provided in `points`. We set the edge color as a function of the\n",
    "`good_point` property by providing the keyword argument\n",
    "`edge_color='good_point'` to the `viewer.add_points()` method. We set the color\n",
    "cycle via the `edge_color_cycle` keyword argument (`edge_color_cycle=['magenta',\n",
    "'green']`). The color cycle can be provided as a list of colors (a list of\n",
    "strings or a (M x 4) array of M RGBA colors)."
   ]
  },
  {
   "cell_type": "markdown",
   "id": "bdad0d75",
   "metadata": {},
   "source": [
    "### setting edge or face color with a colormap\n",
    "\n",
    "Here we will set the face color of the markers with a color cycle on a property.\n",
    "To do the same for a face color, substitute `edge_color` for `face_color` in the\n",
    "example snippet below."
   ]
  },
  {
   "cell_type": "code",
   "execution_count": null,
   "id": "715d443b",
   "metadata": {},
   "outputs": [],
   "source": [
    "viewer = napari.view_image(data.astronaut(), rgb=True)\n",
    "points = np.array([[100, 100], [200, 200], [300, 100]])\n",
    "point_properties = {\n",
    "    'good_point': np.array([True, True, False]),\n",
    "    'confidence': np.array([0.99, 0.8, 0.2]),\n",
    "}\n",
    "\n",
    "points_layer = viewer.add_points(\n",
    "    points,\n",
    "    properties=point_properties,\n",
    "    face_color='confidence',\n",
    "    face_colormap='viridis',\n",
    ")"
   ]
  },
  {
   "cell_type": "code",
   "execution_count": null,
   "id": "8da5e9d6",
   "metadata": {
    "tags": [
     "hide-input"
    ]
   },
   "outputs": [],
   "source": [
    "nbscreenshot(viewer)"
   ]
  },
  {
   "cell_type": "code",
   "execution_count": null,
   "id": "fefebe04",
   "metadata": {
    "tags": [
     "remove-cell"
    ]
   },
   "outputs": [],
   "source": [
    "viewer.close()"
   ]
  },
  {
   "cell_type": "markdown",
   "id": "5ef0899a",
   "metadata": {},
   "source": [
    "In the example above, the properties (`point_properties`) were provided as a\n",
    "dictionary with two properties: `good_point` and `confidence`. The values of\n",
    "each property are stored in a numpy ndarray with length 3 since there were three\n",
    "coordinates provided in `points`. We set the face color as a function of the\n",
    "`confidence` property by providing the keyword argument\n",
    "`face_color='confidence'` to the `viewer.add_points()` method. We set the\n",
    "colormap to viridis using the `face_colormap` keyword argument\n",
    "(`face_colormap='viridis'`)."
   ]
  },
  {
   "cell_type": "markdown",
   "id": "ed9fef75",
   "metadata": {},
   "source": [
    "## changing the points symbol\n",
    "\n",
    "The symbol for the points layer is a global property for the layer. All points\n",
    "must have the same symbol. You can set the symbol on the loading of the layer\n",
    "using the `symbol` keyword argument, or you can change it from the the GUI using\n",
    "the symbol dropdown menu. Since the symbol property applies to all the points\n",
    "you don't need to have any points selected for it to have an effect."
   ]
  },
  {
   "cell_type": "markdown",
   "id": "dbfde422",
   "metadata": {},
   "source": [
    "## copying and pasting points\n",
    "\n",
    "It is possible to copy and paste any selected points using the `ctrl-C` and\n",
    "`ctrl-V` keybindings, respectively. If you have a multidimensional `Points`\n",
    "layer you can copy points from one slice to another by pasting them into the new\n",
    "slice. The coordinates of the points in the visible dimensions will be in the\n",
    "same place on the new slice as in the old slice, but the rest of the coordinates\n",
    "will be updated with the new slice values."
   ]
  },
  {
   "cell_type": "markdown",
   "id": "94e368b9",
   "metadata": {},
   "source": [
    "## layer visibility\n",
    "\n",
    "All our layers support a visibility toggle that allows you to set the `visible`\n",
    "property of each layer. This property is located inside the layer widget in the\n",
    "layers list and is represented by an eye icon."
   ]
  },
  {
   "cell_type": "markdown",
   "id": "2e1d8226",
   "metadata": {},
   "source": [
    "## layer opacity\n",
    "\n",
    "All our layers support an opacity slider and `opacity` property that allow you\n",
    "to adjust the layer opacity between 0, fully invisible, and 1, fully visible.\n",
    "The opacity value applies globally to all the points in the layer, and so you\n",
    "don't need to have any points selected for it to have an effect."
   ]
  },
  {
   "cell_type": "markdown",
   "id": "66f3cf39",
   "metadata": {},
   "source": [
    "## blending layers\n",
    "\n",
    "All our layers support three blending modes `translucent`, `additive`, and\n",
    "`opaque` that determine how the visuals for this layer get mixed with the\n",
    "visuals from the other layers.\n",
    "\n",
    "An `opaque` layer renders all the other layers below it invisible and will fade\n",
    "to black as you decrease its opacity.\n",
    "\n",
    "The `translucent` setting will cause the layer to blend with the layers below it\n",
    "if you decrease its opacity but will fully block those layers if its opacity is\n",
    "1. This is a reasonable default, useful for many applications.\n",
    "\n",
    "The final blending mode `additive` will cause the layer to blend with the layers\n",
    "below even when it has full opacity. This mode is especially useful for\n",
    "visualizing multiple layers at the same time."
   ]
  },
  {
   "cell_type": "markdown",
   "id": "962ce8fb",
   "metadata": {},
   "source": [
    "## naming layers\n",
    "\n",
    "All our layers support a `name` property that can be set inside a text box\n",
    "inside the layer widget in the layers list. The name of each layer is forced\n",
    "into being unique so that you can use the name to index into `viewer.layers` to\n",
    "retrieve the layer object."
   ]
  },
  {
   "cell_type": "markdown",
   "id": "41a97ac4",
   "metadata": {},
   "source": [
    "## scaling layers\n",
    "\n",
    "All our layers support a `scale` property and keyword argument that will rescale\n",
    "the layer multiplicatively according to the scale values (one for each\n",
    "dimension). This property can be particularly useful for viewing anisotropic\n",
    "data where the size of the voxel in the z dimension might be different then the\n",
    "size in the x and y dimensions."
   ]
  },
  {
   "cell_type": "markdown",
   "id": "da815427",
   "metadata": {},
   "source": [
    "## translating layers\n",
    "\n",
    "All our layers support a `translate` property and keyword argument that you can\n",
    "use to offset a layer relative to the other layers, which could be useful if you\n",
    "are trying to overlay two layers for image registration purposes."
   ]
  },
  {
   "cell_type": "markdown",
   "id": "b6cd9df2",
   "metadata": {},
   "source": [
    "## layer metadata\n",
    "\n",
    "All our layers also support a `metadata` property and keyword argument that you\n",
    "can use to store an arbitrary metadata dictionary on the layer."
   ]
  },
  {
   "cell_type": "markdown",
   "id": "402abb84",
   "metadata": {},
   "source": [
    "## putting it all together\n",
    "\n",
    "Here you can see an example of adding, selecting, deleting points and change\n",
    "their properties:"
   ]
  },
  {
   "cell_type": "markdown",
   "id": "dd79438d",
   "metadata": {},
   "source": [
    "![image: editing points](../assets/tutorials/editing_points.gif)"
   ]
  },
  {
   "cell_type": "markdown",
   "id": "eded9c0f",
   "metadata": {},
   "source": [
    "## next steps\n",
    "\n",
    "Hopefully, this tutorial has given you a detailed understanding of the `Points`\n",
    "layer, including how to create one and control its properties. To learn more\n",
    "about some of the other layer types that **napari** supports checkout some more\n",
    "of our tutorials listed below. The [shapes layer](./shapes) tutorial is a great\n",
    "one to try next as it describes more complex shapes and interactivity."
   ]
  }
 ],
 "metadata": {
  "jupytext": {
   "text_representation": {
    "extension": ".md",
    "format_name": "myst",
    "format_version": 0.13,
    "jupytext_version": "1.10.3"
   }
  },
  "kernelspec": {
   "display_name": "Python 3",
   "language": "python",
   "name": "python3"
  },
  "source_map": [
   12,
   16,
   47,
   59,
   70,
   78,
   82,
   89,
   93,
   103,
   115,
   127,
   137,
   146,
   150,
   156,
   167,
   197,
   220,
   237,
   255,
   259,
   267,
   284,
   289,
   293,
   305,
   313,
   329,
   334,
   338,
   349,
   359,
   370,
   378,
   387,
   406,
   415,
   425,
   433,
   440,
   447,
   451
  ]
 },
 "nbformat": 4,
 "nbformat_minor": 5
}