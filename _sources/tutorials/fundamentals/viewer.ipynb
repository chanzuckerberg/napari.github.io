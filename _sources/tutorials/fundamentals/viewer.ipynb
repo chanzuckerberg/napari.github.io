{
 "cells": [
  {
   "cell_type": "markdown",
   "id": "1978af0c",
   "metadata": {},
   "source": [
    "# napari viewer tutorial"
   ]
  },
  {
   "cell_type": "markdown",
   "id": "ddb2cf3d",
   "metadata": {},
   "source": [
    "Welcome to the tutorial on the **napari** viewer!\n",
    "\n",
    "This tutorial assumes you have already installed **napari** and know how to\n",
    "launch the viewer. For help with installation see our\n",
    "[installation](./installation) tutorial. For help getting started with the\n",
    "viewer see our [getting started](./getting_started) tutorial.\n",
    "\n",
    "This tutorial will teach you about the **napari** viewer, including how to use\n",
    "its graphical user interface (GUI) and how the data within it is organized. At\n",
    "the end of the tutorial you should understand the both the layout of the viewer\n",
    "on the screen and the data inside of it."
   ]
  },
  {
   "cell_type": "markdown",
   "id": "69b8723d",
   "metadata": {},
   "source": [
    "## launching the viewer\n",
    "\n",
    "As discussed in [getting started](./getting_started) tutorial the napari viewer\n",
    "can be launched from the command-line, a python script, an IPython console, or a\n",
    "jupyter notebook. All four methods launch the same viewer, and anything related\n",
    "to the interacting with the viewer on the screen applies equally to all of them.\n",
    "We will use the syntax inside python scripts so you can copy and paste these\n",
    "examples into scripts and run them.\n",
    "\n",
    "Let's get stated by launching a viewer with a simple 2D image.\n",
    "\n",
    "The fastest way to get the viewer open and throw an image up on the screen is\n",
    "using the `napari.view_image` method:"
   ]
  },
  {
   "cell_type": "code",
   "execution_count": null,
   "id": "8a9d3714",
   "metadata": {},
   "outputs": [],
   "source": [
    "import napari\n",
    "from skimage import data\n",
    "\n",
    "viewer = napari.view_image(data.astronaut(), rgb=True)"
   ]
  },
  {
   "cell_type": "code",
   "execution_count": null,
   "id": "38cd6c07",
   "metadata": {
    "tags": [
     "remove-cell"
    ]
   },
   "outputs": [],
   "source": [
    "viewer.close()"
   ]
  },
  {
   "cell_type": "markdown",
   "id": "9a026819",
   "metadata": {},
   "source": [
    "Calling `napari.view_image` will return a `Viewer` object that is the main\n",
    "object inside **napari**. All the data you add to **napari** will be stored\n",
    "inside the `Viewer` object and will be accessible from it. This command will\n",
    "also open the viewer to create a GUI that you can interact with.\n",
    "\n",
    "You can also create an empty `Viewer` directly and then start adding images to\n",
    "it. For example:"
   ]
  },
  {
   "cell_type": "code",
   "execution_count": null,
   "id": "7d39cd97",
   "metadata": {},
   "outputs": [],
   "source": [
    "viewer = napari.Viewer()\n",
    "new_layer = viewer.add_image(data.astronaut(), rgb=True)"
   ]
  },
  {
   "cell_type": "markdown",
   "id": "06ef45b7",
   "metadata": {},
   "source": [
    "`add_image` accepts the same arguments as `view_image` but returns a layer\n",
    "rather than a `Viewer`, (as you must already have a viewer to use it).\n",
    "\n",
    "After running either of those two commands you should now be able to see the\n",
    "photograph of the astronaut in the **napari** viewer as shown below"
   ]
  },
  {
   "cell_type": "code",
   "execution_count": null,
   "id": "492b71da",
   "metadata": {
    "tags": [
     "hide-input"
    ]
   },
   "outputs": [],
   "source": [
    "from napari.utils import nbscreenshot\n",
    "\n",
    "nbscreenshot(viewer)"
   ]
  },
  {
   "cell_type": "code",
   "execution_count": null,
   "id": "e5d5256c",
   "metadata": {
    "tags": [
     "remove-cell"
    ]
   },
   "outputs": [],
   "source": [
    "viewer.close()"
   ]
  },
  {
   "cell_type": "markdown",
   "id": "a3c087f3",
   "metadata": {},
   "source": [
    "Both the `view_image` and the `add_image` methods accept any numpy-array like\n",
    "object as an input, including n-dimensional arrays. For more information on\n",
    "adding images to the viewer see the [image layer](./image) tutorial. Now we will\n",
    "continue exploring the rest of the viewer."
   ]
  },
  {
   "cell_type": "markdown",
   "id": "25eca598",
   "metadata": {},
   "source": [
    "## layout of the viewer\n",
    "\n",
    "The viewer is organized into a few key areas:\n",
    "\n",
    "![image: viewer layout](../assets/tutorials/viewer_layout.jpg)\n",
    "\n",
    "We'll go through each of these in the next sections."
   ]
  },
  {
   "cell_type": "markdown",
   "id": "15381ee7",
   "metadata": {},
   "source": [
    "### main canvas\n",
    "\n",
    "The main canvas is in the center of the viewer and contains the visual display\n",
    "of the data passed to **napari**, including images, point, shapes, and our other\n",
    "supported data types. Under the hood the canvas is a `vispy.scene.SceneCanvas`\n",
    "object which has built-in support for features such as zooming and panning. As\n",
    "`vispy` uses `OpenGL` and your graphics card, panning and zooming are highly\n",
    "performant. You can also return to the original zoom level by clicking the\n",
    "`home` button in the viewer buttons panel."
   ]
  },
  {
   "cell_type": "markdown",
   "id": "610f37ac",
   "metadata": {},
   "source": [
    "![image: pan and zoom with napari](../assets/tutorials/viewer_pan_zoom.gif)"
   ]
  },
  {
   "cell_type": "markdown",
   "id": "b44736d0",
   "metadata": {},
   "source": [
    "### layer list\n",
    "\n",
    "One of the basic **napari** objects are layers. There are different layer types\n",
    "for `Image`, `Points`, `Shapes`, and other basic data types. They can be added\n",
    "to the viewer either programmatically or through the GUI. Once added they start\n",
    "to populate the layer list located on the bottom lefthand side of the main\n",
    "canvas.\n",
    "\n",
    "The layer list contains one widget for each of the layers that have been added\n",
    "to the viewer and includes a `thumbnail` which shows a miniaturized version of\n",
    "the currently viewed data, a `name` that is an editable text box, `visibility`\n",
    "button that can be toggled on or off to show or hide the layer, and an `icon`\n",
    "for the layer type.\n",
    "\n",
    "Adding the following three image layers using the code below adds three-layer\n",
    "widgets to the layer list as follows:"
   ]
  },
  {
   "cell_type": "code",
   "execution_count": null,
   "id": "b9854955",
   "metadata": {
    "tags": [
     "remove-output"
    ]
   },
   "outputs": [],
   "source": [
    "viewer = napari.Viewer()\n",
    "viewer.add_image(data.astronaut(), name='astronaut')\n",
    "viewer.add_image(data.moon(), name='moon')\n",
    "viewer.add_image(data.camera(), name='camera')"
   ]
  },
  {
   "cell_type": "code",
   "execution_count": null,
   "id": "263579f6",
   "metadata": {
    "tags": [
     "hide-input"
    ]
   },
   "outputs": [],
   "source": [
    "nbscreenshot(viewer)"
   ]
  },
  {
   "cell_type": "markdown",
   "id": "0311164b",
   "metadata": {},
   "source": [
    "Note that we've also also named each of the layers using the `name` keyword\n",
    "argument in `add_image`, and that name has appeared as a string in the layer\n",
    "widget. The layer name is coerced into being unique so that it can be used to\n",
    "index into the `LayerList`.\n",
    "\n",
    "You can select layers, causing them to become outlined, by clicking on their\n",
    "layer widget. Multiple layers can be simultaneously selected using either\n",
    "`shift` or `command` click to select either all the layers in between clicked-on\n",
    "layers or just the clicked-on layers respectively.\n",
    "\n",
    "You can rearrange the order of the layers by dragging them, including dragging\n",
    "multiple layers at the same time.\n",
    "\n",
    "The `Viewer` object also contains our `LayerList` object that allows you to\n",
    "access the data of all the layers by"
   ]
  },
  {
   "cell_type": "code",
   "execution_count": null,
   "id": "dcd95b17",
   "metadata": {},
   "outputs": [],
   "source": [
    "viewer.layers"
   ]
  },
  {
   "cell_type": "markdown",
   "id": "e303c6b4",
   "metadata": {},
   "source": [
    "This object can be indexed like a normal list using an `int` or using the `str`\n",
    "name of the layer as follows"
   ]
  },
  {
   "cell_type": "code",
   "execution_count": null,
   "id": "7966630c",
   "metadata": {},
   "outputs": [],
   "source": [
    "viewer.layers[0]"
   ]
  },
  {
   "cell_type": "code",
   "execution_count": null,
   "id": "bcf0a595",
   "metadata": {},
   "outputs": [],
   "source": [
    "viewer.layers['astronaut']"
   ]
  },
  {
   "cell_type": "markdown",
   "id": "9aa708bf",
   "metadata": {},
   "source": [
    "You can rearrange layers by clicking and dragging them."
   ]
  },
  {
   "cell_type": "code",
   "execution_count": null,
   "id": "5de0be2a",
   "metadata": {
    "tags": [
     "remove-cell"
    ]
   },
   "outputs": [],
   "source": [
    "viewer.close()"
   ]
  },
  {
   "cell_type": "markdown",
   "id": "93006d44",
   "metadata": {},
   "source": [
    "### layer controls\n",
    "\n",
    "Above the layers list in the top left corner of the viewer there is a box that\n",
    "contains the layer controls. The controls that you have available to you depend\n",
    "on the layer type that you have selected.\n",
    "\n",
    "For example, if you add a `Points` layer after adding an `Image` layer you will\n",
    "now see different controls present."
   ]
  },
  {
   "cell_type": "code",
   "execution_count": null,
   "id": "013b0a6c",
   "metadata": {
    "tags": [
     "remove-output"
    ]
   },
   "outputs": [],
   "source": [
    "import numpy as np\n",
    "\n",
    "viewer = napari.view_image(data.astronaut(), rgb=True)\n",
    "points = np.array([[100, 100], [200, 200], [300, 100]])\n",
    "viewer.add_points(points, size=30)"
   ]
  },
  {
   "cell_type": "code",
   "execution_count": null,
   "id": "7e4bc873",
   "metadata": {
    "tags": [
     "hide-input"
    ]
   },
   "outputs": [],
   "source": [
    "nbscreenshot(viewer)"
   ]
  },
  {
   "cell_type": "markdown",
   "id": "6817d55a",
   "metadata": {},
   "source": [
    "Adjusting these properties in the GUI will cause corresponding changes to\n",
    "properties on the individual layers that are accessible in the console through\n",
    "`viewer.layers`.\n",
    "\n",
    "For example, the name and opacity of a layer can be changed within the console\n",
    "as follows:"
   ]
  },
  {
   "cell_type": "markdown",
   "id": "796e21d7",
   "metadata": {},
   "source": [
    "```python\n",
    "viewer.layers[0].name = 'astronaut'\n",
    "viewer.layers[0].opacity = 0.7\n",
    "```"
   ]
  },
  {
   "cell_type": "code",
   "execution_count": null,
   "id": "fa761c6b",
   "metadata": {
    "tags": [
     "remove-cell"
    ]
   },
   "outputs": [],
   "source": [
    "viewer.close()"
   ]
  },
  {
   "cell_type": "markdown",
   "id": "0afc02d9",
   "metadata": {},
   "source": [
    "and these changes will instantly propagate to the GUI. For more information\n",
    "about the different properties for different layer types please see our layer\n",
    "specific tutorials listed at the bottom of this tutorial."
   ]
  },
  {
   "cell_type": "markdown",
   "id": "cc3ba8f3",
   "metadata": {},
   "source": [
    "### new layer buttons\n",
    "\n",
    "New `Points`, `Shapes`, and `Labels` layers can be added to the viewer using the\n",
    "new layer buttons in the bottom righthand corner of the GUI. These correspond to\n",
    "the calls such as:\n",
    "\n",
    "```python\n",
    "viewer.add_points(data)\n",
    "viewer.add_shapes(data)\n",
    "viewer.add_labels(data)\n",
    "```\n",
    "\n",
    "but with empty data. Once added in the GUI these layers become accessible in the\n",
    "layers list and at `viewer.layers`.\n",
    "\n",
    "Layers can also be deleted by selecting them and then clicking on the trash\n",
    "icon, or by dragging the layers and dropping them into the trash.\n",
    "\n",
    "In the console a layer at index `i` can be removed by\n",
    "\n",
    "```python\n",
    "viewer.layers.pop(i)\n",
    "```"
   ]
  },
  {
   "cell_type": "markdown",
   "id": "636d1591",
   "metadata": {},
   "source": [
    "## dimension sliders\n",
    "\n",
    "One of the main strengths of **napari** is that it has been designed from the\n",
    "beginning to handle n-dimensional data. While much consumer photography is 2D\n",
    "and `RGB`, scientific image data can often be volumetric (i.e. 3D), volumetric\n",
    "timeseries (i.e. 4D), or even higher dimensional. **napari** places no limits on\n",
    "the dimensionality of its input data for all its layer types.\n",
    "\n",
    "Adding data with a dimensionality greater than 2D will cause dimension sliders\n",
    "to appear directly underneath the main canvas and above the status bar. As many\n",
    "sliders as needed will appear to ensure the data can be fully browsed. For\n",
    "example, a 3D dataset needs one slider, a 4D dataset needs two sliders, and so\n",
    "on. The widths of the scroll bars of the dimension sliders are directly related\n",
    "to how many slices are in each dimension.\n",
    "\n",
    "It is also possible to mix data of different shapes and dimensionality in\n",
    "different layers. If a 2D and 4D dataset are both added to the viewer then the\n",
    "sliders will only affect the 4D dataset and the 2D dataset will be remain the\n",
    "same. Effectively, the two datasets are broadcast together using [NumPy\n",
    "broadcasting\n",
    "rules](https://docs.scipy.org/doc/numpy/user/basics.broadcasting.html).\n",
    "\n",
    "For example, the following commands from the console will add a both 2D and 3D\n",
    "datasets to the same viewer:"
   ]
  },
  {
   "cell_type": "code",
   "execution_count": null,
   "id": "b5cb5fb1",
   "metadata": {
    "tags": [
     "remove-output"
    ]
   },
   "outputs": [],
   "source": [
    "viewer = napari.Viewer()\n",
    "viewer.add_image(data.moon(), name='moon')\n",
    "blobs = np.stack(\n",
    "    [\n",
    "        data.binary_blobs(\n",
    "            length=512, blob_size_fraction=0.05, n_dim=2, volume_fraction=f\n",
    "        )\n",
    "        for f in np.linspace(0.05, 0.5, 10)\n",
    "    ],\n",
    "    axis=0,\n",
    ").astype(float)\n",
    "viewer.add_image(blobs, name='blobs', opacity=0.5, colormap='red')"
   ]
  },
  {
   "cell_type": "code",
   "execution_count": null,
   "id": "47f948cb",
   "metadata": {
    "tags": [
     "hide-input"
    ]
   },
   "outputs": [],
   "source": [
    "nbscreenshot(viewer)"
   ]
  },
  {
   "cell_type": "markdown",
   "id": "96d06c19",
   "metadata": {},
   "source": [
    "### viewer buttons\n",
    "\n",
    "Underneath the layers list there is a row of buttons that includes the `Console`\n",
    "button that will show or hide our console that allows you to interact with a\n",
    "python kernel. Inside the console you can access the viewer using the `viewer`\n",
    "argument.\n",
    "\n",
    "When the console button is clicked, the console will appear at the bottom of the\n",
    "viewer as follows:"
   ]
  },
  {
   "cell_type": "markdown",
   "id": "5eb918bd",
   "metadata": {},
   "source": [
    "![image: console within napari](../assets/tutorials/console.png)"
   ]
  },
  {
   "cell_type": "markdown",
   "id": "8213351d",
   "metadata": {},
   "source": [
    "We then have a button that switches between `2D` and `3D` rendering. After\n",
    "running the following code:"
   ]
  },
  {
   "cell_type": "code",
   "execution_count": null,
   "id": "9761551d",
   "metadata": {
    "tags": [
     "remove-output"
    ]
   },
   "outputs": [],
   "source": [
    "from scipy import ndimage as ndi\n",
    "\n",
    "blobs = data.binary_blobs(length=128, volume_fraction=0.1, n_dim=3)\n",
    "viewer = napari.view_image(blobs.astype(float), name='blobs')\n",
    "labeled = ndi.label(blobs)[0]\n",
    "viewer.add_labels(labeled, name='blob ID')"
   ]
  },
  {
   "cell_type": "markdown",
   "id": "e739e752",
   "metadata": {},
   "source": [
    "... clicking on the 3D button\n",
    "\n",
    "![image: 3D_button](../assets/tutorials/3D_button.png)\n",
    "\n",
    "and rotating the camera view with the mouse gives something like the following\n",
    "view:"
   ]
  },
  {
   "cell_type": "code",
   "execution_count": null,
   "id": "d4c57a71",
   "metadata": {
    "tags": [
     "hide-input"
    ]
   },
   "outputs": [],
   "source": [
    "# programmatically adjust the camera angle\n",
    "viewer.dims.ndisplay = 3\n",
    "viewer.camera.zoom = 2\n",
    "viewer.camera.angles = (3, 38, 53)\n",
    "nbscreenshot(viewer)"
   ]
  },
  {
   "cell_type": "markdown",
   "id": "3a0c67ca",
   "metadata": {},
   "source": [
    "Next to the 2D / 3D button is a button to roll the dimensions that are currently\n",
    "being displayed in the viewer - for example if you have a `ZYX` volume and are\n",
    "looking at the `YX` slice this will then show you the `ZY` slice.\n",
    "\n",
    "After that is a button that transposes the displayed dimensions.\n",
    "\n",
    "Finally, there is the `home` button that will reset the camera state to its\n",
    "initial values."
   ]
  },
  {
   "cell_type": "markdown",
   "id": "532bc4b7",
   "metadata": {},
   "source": [
    "### status bar\n",
    "\n",
    "At the very bottom of the GUI there is a status bar that contains useful updates\n",
    "and tips.\n",
    "\n",
    "On the lefthand side of the status bar there is a message that contains\n",
    "information about the position of the mouse and the values of any images or the\n",
    "indices of any points that are currently hovered over, depending on which layer\n",
    "is selected. The status bar will also display information about what button you\n",
    "are clicking in the layer control panel too.\n",
    "\n",
    "The righthand side of the status bar contains some helpful tips depending on\n",
    "which layer and tools are currently selected."
   ]
  },
  {
   "cell_type": "markdown",
   "id": "522d757f",
   "metadata": {},
   "source": [
    "## changing viewer theme\n",
    "\n",
    "Currently, **napari** comes with two different themes `light` and `dark`, which\n",
    "is the default. To change the theme, update `theme` property of the viewer:"
   ]
  },
  {
   "cell_type": "code",
   "execution_count": null,
   "id": "122c65e4",
   "metadata": {},
   "outputs": [],
   "source": [
    "viewer = napari.Viewer()\n",
    "viewer.add_image(data.astronaut(), name='astronaut')\n",
    "\n",
    "# change the viewer theme\n",
    "viewer.theme = 'light'"
   ]
  },
  {
   "cell_type": "code",
   "execution_count": null,
   "id": "a40227e8",
   "metadata": {
    "tags": [
     "hide-input"
    ]
   },
   "outputs": [],
   "source": [
    "nbscreenshot(viewer)"
   ]
  },
  {
   "cell_type": "code",
   "execution_count": null,
   "id": "0a985dfb",
   "metadata": {
    "tags": [
     "remove-cell"
    ]
   },
   "outputs": [],
   "source": [
    "# change the viewer theme back to dark (for the rest of tutorials)\n",
    "viewer.theme = 'dark'"
   ]
  },
  {
   "cell_type": "markdown",
   "id": "884cd68c",
   "metadata": {},
   "source": [
    "Adding your own custom theme isn't too hard either but does require creating\n",
    "your own color `palette` and rebuilding the icons. If people want more themes,\n",
    "we're happy to add them or if you look at our [contributing\n",
    "guidelines](https://github.com/napari/napari/tree/master/docs/CONTRIBUTING) for\n",
    "more information about building the icons and add one yourself!"
   ]
  },
  {
   "cell_type": "markdown",
   "id": "51f86ae4",
   "metadata": {},
   "source": [
    "## custom keybinding\n",
    "\n",
    "One of the promises of **napari** is to provide a beginner friendly environment\n",
    "for interactive analysis. For example, we want to enable workflows where people\n",
    "can interact with the GUI, say click on the centers of some objects, or paint\n",
    "over some regions and then perform custom analysis. As a first step towards\n",
    "enabling custom interactivity we've provided support to add your own custom\n",
    "keybindings to the `Viewer` or individual `Layer` objects such that when the\n",
    "corresponding key gets clicked your custom function gets executed. Depending on\n",
    "which object you bind your key to, your function will either get access to the\n",
    "state of the entire `viewer` or `layer` object.\n",
    "\n",
    "For example, to bind function that loops through all layers in the viewer and\n",
    "prints their names to your console when you press the `p` key you can do the\n",
    "following:"
   ]
  },
  {
   "cell_type": "code",
   "execution_count": null,
   "id": "678ad2a5",
   "metadata": {},
   "outputs": [],
   "source": [
    "viewer = napari.Viewer()\n",
    "viewer.add_image(data.astronaut(), name='astronaut')\n",
    "\n",
    "@viewer.bind_key('p')\n",
    "def print_names(viewer):\n",
    "    print([layer.name for layer in viewer.layers])"
   ]
  },
  {
   "cell_type": "code",
   "execution_count": null,
   "id": "50b934ce",
   "metadata": {
    "tags": [
     "remove-cell"
    ]
   },
   "outputs": [],
   "source": [
    "viewer.close()"
   ]
  },
  {
   "cell_type": "markdown",
   "id": "53411e55",
   "metadata": {},
   "source": [
    "By default, your key will bind to the key press event, but it is also possible\n",
    "to bind to the key release event by including a `yield` inside your function.\n",
    "All code before the `yield` will get executed on key press and all code after\n",
    "the `yield` will get executed on key release. The following example will print\n",
    "`hello` when you start to press the `m` key and print `goodbye` when you release\n",
    "it."
   ]
  },
  {
   "cell_type": "code",
   "execution_count": null,
   "id": "62d89c53",
   "metadata": {},
   "outputs": [],
   "source": [
    "viewer = napari.Viewer()\n",
    "viewer.add_image(data.astronaut(), name='astronaut')\n",
    "\n",
    "@viewer.bind_key('m')\n",
    "def print_message(viewer):\n",
    "    print('hello')\n",
    "    yield\n",
    "    print('goodbye')"
   ]
  },
  {
   "cell_type": "code",
   "execution_count": null,
   "id": "5d4386a4",
   "metadata": {},
   "outputs": [],
   "source": [
    "viewer.close()"
   ]
  },
  {
   "cell_type": "markdown",
   "id": "4497e7a8",
   "metadata": {},
   "source": [
    "Keys can be bound both to the object class or a particular instance depending on\n",
    "if you want the keybinding to apply to all instances of the class or only one\n",
    "particular instance.\n",
    "\n",
    "Currently the keybindings only work when the main canvas is in focus, we are\n",
    "working to ensure they always work.\n",
    "\n",
    "The ability to add custom keybindings dramatically increases what is possible\n",
    "within **napari** and we hope you take full advantage of them."
   ]
  },
  {
   "cell_type": "markdown",
   "id": "ee5e131d",
   "metadata": {},
   "source": [
    "## next steps\n",
    "\n",
    "Hopefully, this tutorial has given you an overview of the functionality\n",
    "available on the **napari** viewer, including the `LayerList` and some of the\n",
    "different layer types. To learn more about the different layer types that\n",
    "**napari** supports checkout some more of our tutorials listed below. The [image\n",
    "layer](./image) tutorial is a great one to try next as viewing images is a\n",
    "fundamental part of what **napari** is about."
   ]
  }
 ],
 "metadata": {
  "jupytext": {
   "text_representation": {
    "extension": ".md",
    "format_name": "myst",
    "format_version": 0.13,
    "jupytext_version": "1.10.3"
   }
  },
  "kernelspec": {
   "display_name": "Python 3",
   "language": "python",
   "name": "python3"
  },
  "source_map": [
   12,
   16,
   30,
   47,
   54,
   58,
   68,
   71,
   79,
   86,
   90,
   97,
   107,
   119,
   123,
   142,
   150,
   153,
   171,
   173,
   178,
   182,
   184,
   188,
   192,
   203,
   212,
   217,
   226,
   233,
   237,
   243,
   269,
   296,
   312,
   315,
   327,
   331,
   337,
   345,
   354,
   362,
   374,
   390,
   397,
   405,
   410,
   415,
   423,
   441,
   451,
   455,
   464,
   475,
   477,
   489
  ]
 },
 "nbformat": 4,
 "nbformat_minor": 5
}