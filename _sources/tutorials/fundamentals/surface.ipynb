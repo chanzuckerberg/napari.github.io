{
 "cells": [
  {
   "cell_type": "markdown",
   "id": "26d9c580",
   "metadata": {},
   "source": [
    "# surface layer tutorial"
   ]
  },
  {
   "cell_type": "markdown",
   "id": "aea13fda",
   "metadata": {},
   "source": [
    "Welcome to the tutorial on the **napari** `Surface` layer!\n",
    "\n",
    "This tutorial assumes you have already installed **napari**, know how to launch\n",
    "the viewer, and are familiar with its layout. For help with installation see our\n",
    "[installation](./installation) tutorial. For help getting started with the\n",
    "viewer see our [getting started](./getting_started) tutorial. For help\n",
    "understanding the organisation of the viewer, including things like the layers\n",
    "list, the layer properties widgets, the layer control panels, and the dimension\n",
    "sliders see our [napari viewer](./viewer) tutorial.\n",
    "\n",
    "This tutorial will teach you about the **napari** `Surface` layer, including how\n",
    "to display surface data and edit the properties of surfaces like the contrast,\n",
    "opacity, colormaps and blending mode. At the end of the tutorial you should\n",
    "understand how to add and manipulate surfaces both from the GUI and from the\n",
    "console.\n",
    "\n",
    "The surface layer allows you to display a precomputed surface mesh that is\n",
    "defined by an NxD array of N vertices in D coordinates, an Mx3 integer array of\n",
    "the indices of the triangles making up the faces of the surface, and a length N\n",
    "list of values to associate with each vertex to use alongside a colormap."
   ]
  },
  {
   "cell_type": "markdown",
   "id": "4624b886",
   "metadata": {},
   "source": [
    "## a simple example\n",
    "\n",
    "You can create a new viewer and add a surface in one go using the\n",
    "`napari.view_surface` method, or if you already have an existing viewer, you can\n",
    "add an image to it using `viewer.add_surface`. The api of both methods is the\n",
    "same. In these examples we'll mainly use `view_surface`.\n",
    "\n",
    "A simple example of viewing a surface is as follows:"
   ]
  },
  {
   "cell_type": "code",
   "execution_count": null,
   "id": "8892728b",
   "metadata": {},
   "outputs": [],
   "source": [
    "import napari\n",
    "import numpy as np\n",
    "\n",
    "vertices = np.array([[0, 0], [0, 20], [10, 0], [10, 10]])\n",
    "faces = np.array([[0, 1, 2], [1, 2, 3]])\n",
    "values = np.linspace(0, 1, len(vertices))\n",
    "surface = (vertices, faces, values)\n",
    "\n",
    "viewer = napari.view_surface(surface)  # add the surface"
   ]
  },
  {
   "cell_type": "code",
   "execution_count": null,
   "id": "1c447bd5",
   "metadata": {
    "tags": [
     "hide-input"
    ]
   },
   "outputs": [],
   "source": [
    "from napari.utils import nbscreenshot\n",
    "\n",
    "nbscreenshot(viewer)"
   ]
  },
  {
   "cell_type": "code",
   "execution_count": null,
   "id": "87884224",
   "metadata": {
    "tags": [
     "remove-cell"
    ]
   },
   "outputs": [],
   "source": [
    "viewer.close()"
   ]
  },
  {
   "cell_type": "markdown",
   "id": "96bf480c",
   "metadata": {},
   "source": [
    "## arguments of view_surface and add_surface\n",
    "\n",
    "{meth}`~napari.view_layers.view_surface` and {meth}`~napari.Viewer.add_surface`\n",
    "accept the same layer-creation parameters."
   ]
  },
  {
   "cell_type": "code",
   "execution_count": null,
   "id": "d1171a2b",
   "metadata": {
    "tags": [
     "hide-cell"
    ]
   },
   "outputs": [],
   "source": [
    "help(napari.view_surface)"
   ]
  },
  {
   "cell_type": "markdown",
   "id": "31c9518d",
   "metadata": {},
   "source": [
    "## surface data\n",
    "\n",
    "The data for a surface layer is defined by a 3-tuple of its vertices, faces, and\n",
    "vertex values. The vertices are an NxD array of N vertices in D coordinates. The\n",
    "faces are an Mx3 integer array of the indices of the triangles making up the\n",
    "faces of the surface. The vertex values are a length N list of values to\n",
    "associate with each vertex to use alongside a colormap. This 3-tuple is\n",
    "accessible through the `layer.data` property."
   ]
  },
  {
   "cell_type": "markdown",
   "id": "2f29b619",
   "metadata": {},
   "source": [
    "## 3D rendering of images\n",
    "\n",
    "All our layers can be rendered in both 2D and 3D mode, and one of our viewer\n",
    "buttons can toggle between each mode. The number of dimensions sliders will be 2\n",
    "or 3 less than the total number of dimensions of the layer. See for example\n",
    "these brain surfaces rendered in 3D:"
   ]
  },
  {
   "cell_type": "markdown",
   "id": "4dee0ffb",
   "metadata": {},
   "source": [
    "![image: brain surface](../assets/tutorials/brain_surface.gif)"
   ]
  },
  {
   "cell_type": "markdown",
   "id": "466032df",
   "metadata": {},
   "source": [
    "## working with colormaps\n",
    "\n",
    "The same colormaps available for the `Image` layer are also available for the\n",
    "`Surface` layer. napari supports any colormap that is created with\n",
    "`vispy.color.Colormap`. We provide access to some standard colormaps that you\n",
    "can set using a string of their name."
   ]
  },
  {
   "cell_type": "code",
   "execution_count": null,
   "id": "5c1313f8",
   "metadata": {},
   "outputs": [],
   "source": [
    "list(napari.utils.colormaps.AVAILABLE_COLORMAPS)"
   ]
  },
  {
   "cell_type": "markdown",
   "id": "7d3a9011",
   "metadata": {},
   "source": [
    "Passing any of these as follows as keyword arguments will set the colormap of\n",
    "that surface. You can also access the current colormap through the\n",
    "`layer.colormap` property which returns a tuple of the colormap name followed by\n",
    "the vispy colormap object. You can list all the available colormaps using\n",
    "`layer.colormaps`.\n",
    "\n",
    "It is also possible to create your own colormaps using vispy's\n",
    "`vispy.color.Colormap` object, see it's full [documentation\n",
    "here](https://vispy.org/api/vispy.color.colormap.html#vispy.color.colormap.Colormap). For more detail see the\n",
    "[image layer tutorial](./image)."
   ]
  },
  {
   "cell_type": "markdown",
   "id": "c537b9bb",
   "metadata": {},
   "source": [
    "## adjusting contrast limits\n",
    "\n",
    "The vertex values of the surface layer get mapped through its colormap according\n",
    "to values called contrast limits. These are a 2-tuple of values defining how\n",
    "what values get applied the minimum and maximum of the colormap and follow the\n",
    "same principles as the `contrast_limits` described in the [image layer\n",
    "tutorial](./image). They are also accessible through the same keyword arguments,\n",
    "properties, and range slider as in the image layer."
   ]
  },
  {
   "cell_type": "markdown",
   "id": "71fab5b3",
   "metadata": {},
   "source": [
    "## layer visibility\n",
    "\n",
    "All our layers support a visibility toggle that allows you to set the `visible`\n",
    "property of each layer. This property is located inside the layer widget in the\n",
    "layers list and is represented by an eye icon."
   ]
  },
  {
   "cell_type": "markdown",
   "id": "92207448",
   "metadata": {},
   "source": [
    "## layer opacity\n",
    "\n",
    "All our layers support an opacity slider and `opacity` property that allow you\n",
    "to adjust the layer opacity between 0, fully invisible, and 1, fully visible."
   ]
  },
  {
   "cell_type": "markdown",
   "id": "7e8885a8",
   "metadata": {},
   "source": [
    "## blending layers\n",
    "\n",
    "All our layers support three blending modes `translucent`, `additive`, and\n",
    "`opaque` that determine how the visuals for this layer get mixed with the\n",
    "visuals from the other layers.\n",
    "\n",
    "An `opaque` layer renders all the other layers below it invisible and will fade\n",
    "to black as you decrease its opacity.\n",
    "\n",
    "The `translucent` setting will cause the layer to blend with the layers below it\n",
    "if you decrease its opacity but will fully block those layers if its opacity is\n",
    "`1`. This is a reasonable default, useful for many applications.\n",
    "\n",
    "The final blending mode `additive` will cause the layer to blend with the layers\n",
    "below even when it has full opacity. This mode is especially useful for\n",
    "visualizing multiple layers at the same time."
   ]
  },
  {
   "cell_type": "markdown",
   "id": "1512ac82",
   "metadata": {},
   "source": [
    "## naming layers\n",
    "\n",
    "All our layers support a `name` property that can be set inside a text box\n",
    "inside the layer widget in the layers list. The name of each layer is forced\n",
    "into being unique so that you can use the name to index into `viewer.layers` to\n",
    "retrieve the layer object."
   ]
  },
  {
   "cell_type": "markdown",
   "id": "b76e1e94",
   "metadata": {},
   "source": [
    "## scaling layers\n",
    "\n",
    "All our layers support a `scale` property and keyword argument that will rescale\n",
    "the layer multiplicatively according to the scale values (one for each\n",
    "dimension). This property can be particularly useful for viewing anisotropic\n",
    "data where the size of the voxel in the z dimension might be different then the\n",
    "size in the x and y dimensions."
   ]
  },
  {
   "cell_type": "markdown",
   "id": "e852a4b4",
   "metadata": {},
   "source": [
    "## translating layers\n",
    "\n",
    "All our layers support a `translate` property and keyword argument that you can\n",
    "use to offset a layer relative to the other layers, which could be useful if you\n",
    "are trying to overlay two layers for image registration purposes."
   ]
  },
  {
   "cell_type": "markdown",
   "id": "dd34b3ba",
   "metadata": {},
   "source": [
    "## layer metadata\n",
    "\n",
    "All our layers also support a `metadata` property and keyword argument that you\n",
    "can use to store an arbitrary metadata dictionary on the layer."
   ]
  },
  {
   "cell_type": "markdown",
   "id": "9c74e313",
   "metadata": {},
   "source": [
    "## next steps\n",
    "\n",
    "Hopefully, this tutorial has given you a detailed understanding of the `Vectors`\n",
    "layer, including how to create one and control its properties. To learn more\n",
    "about some of the other layer types that **napari** supports checkout some more\n",
    "of our tutorials listed below. The [vectors layer](./vectors) tutorial is a\n",
    "great one to try next as it describes rendering lots of lines."
   ]
  }
 ],
 "metadata": {
  "jupytext": {
   "text_representation": {
    "extension": ".md",
    "format_name": "myst",
    "format_version": 0.13,
    "jupytext_version": "1.10.3"
   }
  },
  "kernelspec": {
   "display_name": "Python 3",
   "language": "python",
   "name": "python3"
  },
  "source_map": [
   12,
   16,
   39,
   50,
   62,
   70,
   74,
   81,
   85,
   96,
   105,
   109,
   118,
   120,
   134,
   145,
   153,
   160,
   179,
   188,
   198,
   206,
   213
  ]
 },
 "nbformat": 4,
 "nbformat_minor": 5
}